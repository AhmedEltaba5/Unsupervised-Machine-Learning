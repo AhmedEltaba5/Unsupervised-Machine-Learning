{
 "cells": [
  {
   "cell_type": "markdown",
   "metadata": {},
   "source": [
    "# Start DBSCAN"
   ]
  },
  {
   "cell_type": "code",
   "execution_count": 1,
   "metadata": {},
   "outputs": [],
   "source": [
    "#use BDscan\n",
    "#try different min_points\n",
    "#select best epsilon by knn\n",
    "#select best score\n",
    "#try pca on kmeans, her, DBscan\n",
    "#show difference on the score"
   ]
  },
  {
   "cell_type": "code",
   "execution_count": 2,
   "metadata": {},
   "outputs": [],
   "source": [
    "import numpy as np\n",
    "import pandas as pd\n",
    "import matplotlib.pyplot as plt\n",
    "from sklearn.neighbors import NearestNeighbors\n",
    "from sklearn.cluster import KMeans\n",
    "from sklearn.cluster import AgglomerativeClustering\n",
    "import scipy.cluster.hierarchy as shc\n",
    "from sklearn.cluster import DBSCAN\n",
    "from sklearn import metrics"
   ]
  },
  {
   "cell_type": "code",
   "execution_count": 3,
   "metadata": {},
   "outputs": [],
   "source": [
    "#csv with decimal & null filed\n",
    "df = pd.read_csv('processed_df.csv')"
   ]
  },
  {
   "cell_type": "code",
   "execution_count": 4,
   "metadata": {},
   "outputs": [
    {
     "data": {
      "text/html": [
       "<div>\n",
       "<style scoped>\n",
       "    .dataframe tbody tr th:only-of-type {\n",
       "        vertical-align: middle;\n",
       "    }\n",
       "\n",
       "    .dataframe tbody tr th {\n",
       "        vertical-align: top;\n",
       "    }\n",
       "\n",
       "    .dataframe thead th {\n",
       "        text-align: right;\n",
       "    }\n",
       "</style>\n",
       "<table border=\"1\" class=\"dataframe\">\n",
       "  <thead>\n",
       "    <tr style=\"text-align: right;\">\n",
       "      <th></th>\n",
       "      <th>Country</th>\n",
       "      <th>Region</th>\n",
       "      <th>Population</th>\n",
       "      <th>Area (sq. mi.)</th>\n",
       "      <th>Pop. Density (per sq. mi.)</th>\n",
       "      <th>Coastline (coast/area ratio)</th>\n",
       "      <th>Net migration</th>\n",
       "      <th>Infant mortality (per 1000 births)</th>\n",
       "      <th>GDP ($ per capita)</th>\n",
       "      <th>Literacy (%)</th>\n",
       "      <th>Phones (per 1000)</th>\n",
       "      <th>Arable (%)</th>\n",
       "      <th>Crops (%)</th>\n",
       "      <th>Other (%)</th>\n",
       "      <th>Climate</th>\n",
       "      <th>Birthrate</th>\n",
       "      <th>Deathrate</th>\n",
       "      <th>Agriculture</th>\n",
       "      <th>Industry</th>\n",
       "      <th>Service</th>\n",
       "    </tr>\n",
       "  </thead>\n",
       "  <tbody>\n",
       "    <tr>\n",
       "      <th>0</th>\n",
       "      <td>Afghanistan</td>\n",
       "      <td>ASIA (EX. NEAR EAST)</td>\n",
       "      <td>31056997</td>\n",
       "      <td>647500</td>\n",
       "      <td>48.0</td>\n",
       "      <td>0.00</td>\n",
       "      <td>23.06</td>\n",
       "      <td>163.07</td>\n",
       "      <td>700.0</td>\n",
       "      <td>36.0</td>\n",
       "      <td>3.2</td>\n",
       "      <td>12.13</td>\n",
       "      <td>0.22</td>\n",
       "      <td>87.65</td>\n",
       "      <td>1.0</td>\n",
       "      <td>46.60</td>\n",
       "      <td>20.34</td>\n",
       "      <td>0.380</td>\n",
       "      <td>0.240</td>\n",
       "      <td>0.380</td>\n",
       "    </tr>\n",
       "    <tr>\n",
       "      <th>1</th>\n",
       "      <td>Albania</td>\n",
       "      <td>EASTERN EUROPE</td>\n",
       "      <td>3581655</td>\n",
       "      <td>28748</td>\n",
       "      <td>124.6</td>\n",
       "      <td>1.26</td>\n",
       "      <td>-4.93</td>\n",
       "      <td>21.52</td>\n",
       "      <td>4500.0</td>\n",
       "      <td>86.5</td>\n",
       "      <td>71.2</td>\n",
       "      <td>21.09</td>\n",
       "      <td>4.42</td>\n",
       "      <td>74.49</td>\n",
       "      <td>3.0</td>\n",
       "      <td>15.11</td>\n",
       "      <td>5.22</td>\n",
       "      <td>0.232</td>\n",
       "      <td>0.188</td>\n",
       "      <td>0.579</td>\n",
       "    </tr>\n",
       "    <tr>\n",
       "      <th>2</th>\n",
       "      <td>Algeria</td>\n",
       "      <td>NORTHERN AFRICA</td>\n",
       "      <td>32930091</td>\n",
       "      <td>2381740</td>\n",
       "      <td>13.8</td>\n",
       "      <td>0.04</td>\n",
       "      <td>-0.39</td>\n",
       "      <td>31.00</td>\n",
       "      <td>6000.0</td>\n",
       "      <td>70.0</td>\n",
       "      <td>78.1</td>\n",
       "      <td>3.22</td>\n",
       "      <td>0.25</td>\n",
       "      <td>96.53</td>\n",
       "      <td>1.0</td>\n",
       "      <td>17.14</td>\n",
       "      <td>4.61</td>\n",
       "      <td>0.101</td>\n",
       "      <td>0.600</td>\n",
       "      <td>0.298</td>\n",
       "    </tr>\n",
       "    <tr>\n",
       "      <th>3</th>\n",
       "      <td>American Samoa</td>\n",
       "      <td>OCEANIA</td>\n",
       "      <td>57794</td>\n",
       "      <td>199</td>\n",
       "      <td>290.4</td>\n",
       "      <td>58.29</td>\n",
       "      <td>-20.71</td>\n",
       "      <td>9.27</td>\n",
       "      <td>8000.0</td>\n",
       "      <td>97.0</td>\n",
       "      <td>259.5</td>\n",
       "      <td>10.00</td>\n",
       "      <td>15.00</td>\n",
       "      <td>75.00</td>\n",
       "      <td>2.0</td>\n",
       "      <td>22.46</td>\n",
       "      <td>3.27</td>\n",
       "      <td>0.099</td>\n",
       "      <td>0.272</td>\n",
       "      <td>0.571</td>\n",
       "    </tr>\n",
       "    <tr>\n",
       "      <th>4</th>\n",
       "      <td>Andorra</td>\n",
       "      <td>WESTERN EUROPE</td>\n",
       "      <td>71201</td>\n",
       "      <td>468</td>\n",
       "      <td>152.1</td>\n",
       "      <td>0.00</td>\n",
       "      <td>6.60</td>\n",
       "      <td>4.05</td>\n",
       "      <td>19000.0</td>\n",
       "      <td>100.0</td>\n",
       "      <td>497.2</td>\n",
       "      <td>2.22</td>\n",
       "      <td>0.00</td>\n",
       "      <td>97.78</td>\n",
       "      <td>3.0</td>\n",
       "      <td>8.71</td>\n",
       "      <td>6.25</td>\n",
       "      <td>0.099</td>\n",
       "      <td>0.272</td>\n",
       "      <td>0.571</td>\n",
       "    </tr>\n",
       "  </tbody>\n",
       "</table>\n",
       "</div>"
      ],
      "text/plain": [
       "           Country                               Region  Population  \\\n",
       "0     Afghanistan         ASIA (EX. NEAR EAST)             31056997   \n",
       "1         Albania   EASTERN EUROPE                          3581655   \n",
       "2         Algeria   NORTHERN AFRICA                        32930091   \n",
       "3  American Samoa   OCEANIA                                   57794   \n",
       "4         Andorra   WESTERN EUROPE                            71201   \n",
       "\n",
       "   Area (sq. mi.)  Pop. Density (per sq. mi.)  Coastline (coast/area ratio)  \\\n",
       "0          647500                        48.0                          0.00   \n",
       "1           28748                       124.6                          1.26   \n",
       "2         2381740                        13.8                          0.04   \n",
       "3             199                       290.4                         58.29   \n",
       "4             468                       152.1                          0.00   \n",
       "\n",
       "   Net migration  Infant mortality (per 1000 births)  GDP ($ per capita)  \\\n",
       "0          23.06                              163.07               700.0   \n",
       "1          -4.93                               21.52              4500.0   \n",
       "2          -0.39                               31.00              6000.0   \n",
       "3         -20.71                                9.27              8000.0   \n",
       "4           6.60                                4.05             19000.0   \n",
       "\n",
       "   Literacy (%)  Phones (per 1000)  Arable (%)  Crops (%)  Other (%)  Climate  \\\n",
       "0          36.0                3.2       12.13       0.22      87.65      1.0   \n",
       "1          86.5               71.2       21.09       4.42      74.49      3.0   \n",
       "2          70.0               78.1        3.22       0.25      96.53      1.0   \n",
       "3          97.0              259.5       10.00      15.00      75.00      2.0   \n",
       "4         100.0              497.2        2.22       0.00      97.78      3.0   \n",
       "\n",
       "   Birthrate  Deathrate  Agriculture  Industry  Service  \n",
       "0      46.60      20.34        0.380     0.240    0.380  \n",
       "1      15.11       5.22        0.232     0.188    0.579  \n",
       "2      17.14       4.61        0.101     0.600    0.298  \n",
       "3      22.46       3.27        0.099     0.272    0.571  \n",
       "4       8.71       6.25        0.099     0.272    0.571  "
      ]
     },
     "execution_count": 4,
     "metadata": {},
     "output_type": "execute_result"
    }
   ],
   "source": [
    "df.head()"
   ]
  },
  {
   "cell_type": "code",
   "execution_count": 5,
   "metadata": {},
   "outputs": [
    {
     "name": "stdout",
     "output_type": "stream",
     "text": [
      "<class 'pandas.core.frame.DataFrame'>\n",
      "RangeIndex: 227 entries, 0 to 226\n",
      "Data columns (total 20 columns):\n",
      " #   Column                              Non-Null Count  Dtype  \n",
      "---  ------                              --------------  -----  \n",
      " 0   Country                             227 non-null    int32  \n",
      " 1   Region                              227 non-null    int32  \n",
      " 2   Population                          227 non-null    int64  \n",
      " 3   Area (sq. mi.)                      227 non-null    int64  \n",
      " 4   Pop. Density (per sq. mi.)          227 non-null    float64\n",
      " 5   Coastline (coast/area ratio)        227 non-null    float64\n",
      " 6   Net migration                       227 non-null    float64\n",
      " 7   Infant mortality (per 1000 births)  227 non-null    float64\n",
      " 8   GDP ($ per capita)                  227 non-null    float64\n",
      " 9   Literacy (%)                        227 non-null    float64\n",
      " 10  Phones (per 1000)                   227 non-null    float64\n",
      " 11  Arable (%)                          227 non-null    float64\n",
      " 12  Crops (%)                           227 non-null    float64\n",
      " 13  Other (%)                           227 non-null    float64\n",
      " 14  Climate                             227 non-null    float64\n",
      " 15  Birthrate                           227 non-null    float64\n",
      " 16  Deathrate                           227 non-null    float64\n",
      " 17  Agriculture                         227 non-null    float64\n",
      " 18  Industry                            227 non-null    float64\n",
      " 19  Service                             227 non-null    float64\n",
      "dtypes: float64(16), int32(2), int64(2)\n",
      "memory usage: 33.8 KB\n"
     ]
    }
   ],
   "source": [
    "from sklearn.preprocessing import LabelEncoder\n",
    "\n",
    "# creating instance of labelencoder\n",
    "labelencoder = LabelEncoder()\n",
    "# Assigning numerical values and storing in another column\n",
    "df['Country'] = labelencoder.fit_transform(df['Country'])\n",
    "df['Region'] = labelencoder.fit_transform(df['Region'])\n",
    "\n",
    "df.info()"
   ]
  },
  {
   "cell_type": "code",
   "execution_count": 6,
   "metadata": {},
   "outputs": [
    {
     "data": {
      "text/plain": [
       "array([[-1.72443736, -1.70711389,  0.01969468, ...,  1.63657562,\n",
       "        -0.31540576, -1.1611354 ],\n",
       "       [-1.70917685, -0.81353621, -0.21387688, ...,  0.59516349,\n",
       "        -0.70631815,  0.08342432],\n",
       "       [-1.69391635,  0.08004147,  0.03561811, ..., -0.32662697,\n",
       "         2.39091078, -1.67396905],\n",
       "       ...,\n",
       "       [ 1.69391635, -0.21781776, -0.06192308, ..., -0.08738364,\n",
       "         1.4286649 , -1.0798325 ],\n",
       "       [ 1.70917685,  0.97361915, -0.14654488, ...,  0.51072467,\n",
       "         0.06047154, -0.47944188],\n",
       "       [ 1.72443736,  0.97361915, -0.14029829, ...,  0.22222537,\n",
       "        -0.29285312,  0.08342432]])"
      ]
     },
     "execution_count": 6,
     "metadata": {},
     "output_type": "execute_result"
    }
   ],
   "source": [
    "from sklearn.preprocessing import StandardScaler\n",
    "\n",
    "z = StandardScaler()\n",
    "df = z.fit_transform(df)\n",
    "df"
   ]
  },
  {
   "cell_type": "code",
   "execution_count": 7,
   "metadata": {},
   "outputs": [
    {
     "name": "stdout",
     "output_type": "stream",
     "text": [
      "{0, 1, -1}\n"
     ]
    },
    {
     "data": {
      "text/plain": [
       "0.2386930108712049"
      ]
     },
     "execution_count": 7,
     "metadata": {},
     "output_type": "execute_result"
    }
   ],
   "source": [
    "clustering = DBSCAN(eps=4, min_samples=3).fit(df)\n",
    "labels = clustering.labels_\n",
    "print(set(labels))\n",
    "metrics.silhouette_score(df, labels)"
   ]
  },
  {
   "cell_type": "markdown",
   "metadata": {},
   "source": [
    "# Use KNN"
   ]
  },
  {
   "cell_type": "code",
   "execution_count": 8,
   "metadata": {},
   "outputs": [
    {
     "name": "stderr",
     "output_type": "stream",
     "text": [
      "C:\\Users\\ahmed eltabakh\\anaconda3\\lib\\site-packages\\sklearn\\utils\\validation.py:67: FutureWarning: Pass n_neighbors=3 as keyword args. From version 0.25 passing these as positional arguments will result in an error\n",
      "  warnings.warn(\"Pass {} as keyword args. From version 0.25 \"\n"
     ]
    },
    {
     "data": {
      "image/png": "[encoded data removed]",
      "text/plain": [
       "<Figure size 432x288 with 1 Axes>"
      ]
     },
     "metadata": {
      "needs_background": "light"
     },
     "output_type": "display_data"
    }
   ],
   "source": [
    "# we ask for mins + 1 nearest, because the data point it self (distance = 0) is included\n",
    "mins = 2\n",
    "nn = NearestNeighbors(mins + 1)\n",
    "\n",
    "nn.fit(df)\n",
    "\n",
    "distances, neighbors = nn.kneighbors(df)\n",
    "\n",
    "# sort the distances\n",
    "distances = np.sort(distances[:, mins], axis = 0)\n",
    "\n",
    "plt.plot(np.arange(0,len(distances)), distances)\n",
    "plt.show()"
   ]
  },
  {
   "cell_type": "code",
   "execution_count": 9,
   "metadata": {},
   "outputs": [
    {
     "name": "stdout",
     "output_type": "stream",
     "text": [
      "{0, 1, 2, -1}\n"
     ]
    },
    {
     "data": {
      "text/plain": [
       "0.15559006533065442"
      ]
     },
     "execution_count": 9,
     "metadata": {},
     "output_type": "execute_result"
    }
   ],
   "source": [
    "#2, 4\n",
    "clustering = DBSCAN(eps=4, min_samples=2).fit(df)\n",
    "labels = clustering.labels_\n",
    "print(set(labels))\n",
    "metrics.silhouette_score(df, labels)"
   ]
  },
  {
   "cell_type": "code",
   "execution_count": 10,
   "metadata": {},
   "outputs": [
    {
     "data": {
      "text/plain": [
       "10"
      ]
     },
     "execution_count": 10,
     "metadata": {},
     "output_type": "execute_result"
    }
   ],
   "source": [
    "list(labels).count(-1)"
   ]
  },
  {
   "cell_type": "markdown",
   "metadata": {},
   "source": [
    "# Kmeans before PCA"
   ]
  },
  {
   "cell_type": "code",
   "execution_count": 11,
   "metadata": {},
   "outputs": [
    {
     "data": {
      "text/plain": [
       "0.16194496246129045"
      ]
     },
     "execution_count": 11,
     "metadata": {},
     "output_type": "execute_result"
    }
   ],
   "source": [
    "kmeans = KMeans(n_clusters=3, random_state=0).fit(df)\n",
    "labels = kmeans.labels_\n",
    "\n",
    "metrics.silhouette_score(df, labels)"
   ]
  },
  {
   "cell_type": "markdown",
   "metadata": {},
   "source": [
    "# Hierarchical before PCA"
   ]
  },
  {
   "cell_type": "code",
   "execution_count": 12,
   "metadata": {},
   "outputs": [
    {
     "data": {
      "image/png": "[encoded data removed]",
      "text/plain": [
       "<Figure size 720x504 with 1 Axes>"
      ]
     },
     "metadata": {
      "needs_background": "light"
     },
     "output_type": "display_data"
    }
   ],
   "source": [
    "plt.figure(figsize=(10, 7))\n",
    "plt.title(\"Counters Dendograms\")\n",
    "\n",
    "dend = shc.dendrogram(shc.linkage(y=df , method='complete',metric='euclidean'),orientation='right') "
   ]
  },
  {
   "cell_type": "code",
   "execution_count": 13,
   "metadata": {},
   "outputs": [
    {
     "data": {
      "text/plain": [
       "0.1604550127924883"
      ]
     },
     "execution_count": 13,
     "metadata": {},
     "output_type": "execute_result"
    }
   ],
   "source": [
    "clustering = AgglomerativeClustering(n_clusters=4).fit(df)\n",
    "labels = clustering.labels_\n",
    "\n",
    "metrics.silhouette_score(df, labels)"
   ]
  },
  {
   "cell_type": "markdown",
   "metadata": {},
   "source": [
    "# Use PCA with kmeans, herarchical, DBscan"
   ]
  },
  {
   "cell_type": "markdown",
   "metadata": {},
   "source": [
    "### import output transformed data from PCA"
   ]
  },
  {
   "cell_type": "code",
   "execution_count": 14,
   "metadata": {},
   "outputs": [
    {
     "data": {
      "text/html": [
       "<div>\n",
       "<style scoped>\n",
       "    .dataframe tbody tr th:only-of-type {\n",
       "        vertical-align: middle;\n",
       "    }\n",
       "\n",
       "    .dataframe tbody tr th {\n",
       "        vertical-align: top;\n",
       "    }\n",
       "\n",
       "    .dataframe thead th {\n",
       "        text-align: right;\n",
       "    }\n",
       "</style>\n",
       "<table border=\"1\" class=\"dataframe\">\n",
       "  <thead>\n",
       "    <tr style=\"text-align: right;\">\n",
       "      <th></th>\n",
       "      <th>0</th>\n",
       "      <th>1</th>\n",
       "      <th>2</th>\n",
       "      <th>3</th>\n",
       "      <th>4</th>\n",
       "      <th>5</th>\n",
       "      <th>6</th>\n",
       "      <th>7</th>\n",
       "      <th>8</th>\n",
       "      <th>9</th>\n",
       "      <th>10</th>\n",
       "      <th>11</th>\n",
       "    </tr>\n",
       "  </thead>\n",
       "  <tbody>\n",
       "    <tr>\n",
       "      <th>0</th>\n",
       "      <td>287547.815819</td>\n",
       "      <td>-1.108696e+06</td>\n",
       "      <td>-1.336486e+07</td>\n",
       "      <td>1.615865e+06</td>\n",
       "      <td>1.631242e+07</td>\n",
       "      <td>-6.847497e+06</td>\n",
       "      <td>-836241.297061</td>\n",
       "      <td>-625349.804500</td>\n",
       "      <td>-312478.969150</td>\n",
       "      <td>-2.028130e+06</td>\n",
       "      <td>-2.192557e+06</td>\n",
       "      <td>1.604479e+07</td>\n",
       "    </tr>\n",
       "    <tr>\n",
       "      <th>1</th>\n",
       "      <td>31902.511330</td>\n",
       "      <td>-1.340005e+05</td>\n",
       "      <td>-1.524441e+06</td>\n",
       "      <td>1.871190e+05</td>\n",
       "      <td>1.860862e+06</td>\n",
       "      <td>-7.725766e+05</td>\n",
       "      <td>-104891.382881</td>\n",
       "      <td>-68415.399601</td>\n",
       "      <td>-31527.703414</td>\n",
       "      <td>-2.345787e+05</td>\n",
       "      <td>-2.633235e+05</td>\n",
       "      <td>1.872178e+06</td>\n",
       "    </tr>\n",
       "    <tr>\n",
       "      <th>2</th>\n",
       "      <td>292799.350467</td>\n",
       "      <td>-9.133595e+05</td>\n",
       "      <td>-1.478276e+07</td>\n",
       "      <td>1.720098e+06</td>\n",
       "      <td>1.804634e+07</td>\n",
       "      <td>-7.920357e+06</td>\n",
       "      <td>-584139.064896</td>\n",
       "      <td>-795324.782656</td>\n",
       "      <td>-470686.715866</td>\n",
       "      <td>-2.130132e+06</td>\n",
       "      <td>-1.940742e+06</td>\n",
       "      <td>1.621627e+07</td>\n",
       "    </tr>\n",
       "    <tr>\n",
       "      <th>3</th>\n",
       "      <td>-2276.804084</td>\n",
       "      <td>-5.238994e+02</td>\n",
       "      <td>-2.394319e+04</td>\n",
       "      <td>4.674294e+03</td>\n",
       "      <td>2.987503e+04</td>\n",
       "      <td>-1.372174e+04</td>\n",
       "      <td>-2243.131311</td>\n",
       "      <td>-813.100286</td>\n",
       "      <td>787.918637</td>\n",
       "      <td>-3.999377e+03</td>\n",
       "      <td>-4.411847e+03</td>\n",
       "      <td>3.077232e+04</td>\n",
       "    </tr>\n",
       "    <tr>\n",
       "      <th>4</th>\n",
       "      <td>-5904.468258</td>\n",
       "      <td>1.275983e+03</td>\n",
       "      <td>-2.910640e+04</td>\n",
       "      <td>7.762555e+03</td>\n",
       "      <td>3.669344e+04</td>\n",
       "      <td>-1.854680e+04</td>\n",
       "      <td>-3009.689283</td>\n",
       "      <td>-995.486419</td>\n",
       "      <td>2584.905139</td>\n",
       "      <td>-5.282763e+03</td>\n",
       "      <td>-5.651663e+03</td>\n",
       "      <td>3.829115e+04</td>\n",
       "    </tr>\n",
       "  </tbody>\n",
       "</table>\n",
       "</div>"
      ],
      "text/plain": [
       "               0             1             2             3             4  \\\n",
       "0  287547.815819 -1.108696e+06 -1.336486e+07  1.615865e+06  1.631242e+07   \n",
       "1   31902.511330 -1.340005e+05 -1.524441e+06  1.871190e+05  1.860862e+06   \n",
       "2  292799.350467 -9.133595e+05 -1.478276e+07  1.720098e+06  1.804634e+07   \n",
       "3   -2276.804084 -5.238994e+02 -2.394319e+04  4.674294e+03  2.987503e+04   \n",
       "4   -5904.468258  1.275983e+03 -2.910640e+04  7.762555e+03  3.669344e+04   \n",
       "\n",
       "              5              6              7              8             9  \\\n",
       "0 -6.847497e+06 -836241.297061 -625349.804500 -312478.969150 -2.028130e+06   \n",
       "1 -7.725766e+05 -104891.382881  -68415.399601  -31527.703414 -2.345787e+05   \n",
       "2 -7.920357e+06 -584139.064896 -795324.782656 -470686.715866 -2.130132e+06   \n",
       "3 -1.372174e+04   -2243.131311    -813.100286     787.918637 -3.999377e+03   \n",
       "4 -1.854680e+04   -3009.689283    -995.486419    2584.905139 -5.282763e+03   \n",
       "\n",
       "             10            11  \n",
       "0 -2.192557e+06  1.604479e+07  \n",
       "1 -2.633235e+05  1.872178e+06  \n",
       "2 -1.940742e+06  1.621627e+07  \n",
       "3 -4.411847e+03  3.077232e+04  \n",
       "4 -5.651663e+03  3.829115e+04  "
      ]
     },
     "execution_count": 14,
     "metadata": {},
     "output_type": "execute_result"
    }
   ],
   "source": [
    "transformed_data = pd.read_csv('transformed_x_df.csv')\n",
    "transformed_data.head()"
   ]
  },
  {
   "cell_type": "code",
   "execution_count": 15,
   "metadata": {},
   "outputs": [
    {
     "data": {
      "text/plain": [
       "array([[ 0.02241675, -0.01894687, -0.0199416 , ..., -0.01961345,\n",
       "        -0.01881315,  0.01943469],\n",
       "       [-0.21005999,  0.19982624,  0.216669  , ...,  0.21327813,\n",
       "         0.203516  , -0.21088905],\n",
       "       [ 0.02719235,  0.024897  , -0.04827591, ..., -0.03285832,\n",
       "         0.01020658,  0.02222138],\n",
       "       ...,\n",
       "       [-0.05898798,  0.06078538,  0.06203912, ...,  0.06192344,\n",
       "         0.06140227, -0.06178715],\n",
       "       [-0.14520479,  0.1555016 ,  0.14452154, ...,  0.14700901,\n",
       "         0.15367318, -0.14866103],\n",
       "       [-0.13730037,  0.13661503,  0.14092691, ...,  0.14018064,\n",
       "         0.13783736, -0.13960943]])"
      ]
     },
     "execution_count": 15,
     "metadata": {},
     "output_type": "execute_result"
    }
   ],
   "source": [
    "z = StandardScaler()\n",
    "transformed_data = z.fit_transform(transformed_data)\n",
    "transformed_data"
   ]
  },
  {
   "cell_type": "markdown",
   "metadata": {},
   "source": [
    "## kmeans with PCA"
   ]
  },
  {
   "cell_type": "code",
   "execution_count": 16,
   "metadata": {},
   "outputs": [
    {
     "data": {
      "text/plain": [
       "0.9735414732304287"
      ]
     },
     "execution_count": 16,
     "metadata": {},
     "output_type": "execute_result"
    }
   ],
   "source": [
    "kmeans = KMeans(n_clusters=2, random_state=0).fit(transformed_data)\n",
    "labels = kmeans.labels_\n",
    "\n",
    "metrics.silhouette_score(transformed_data, labels)"
   ]
  },
  {
   "cell_type": "markdown",
   "metadata": {},
   "source": [
    "### score highly increased with using PCA output data"
   ]
  },
  {
   "cell_type": "markdown",
   "metadata": {},
   "source": [
    "# Heirarchical with PCA"
   ]
  },
  {
   "cell_type": "code",
   "execution_count": 17,
   "metadata": {},
   "outputs": [
    {
     "data": {
      "image/png": "[encoded data removed]",
      "text/plain": [
       "<Figure size 720x504 with 1 Axes>"
      ]
     },
     "metadata": {
      "needs_background": "light"
     },
     "output_type": "display_data"
    }
   ],
   "source": [
    "plt.figure(figsize=(10, 7))\n",
    "plt.title(\"Counters Dendograms\")\n",
    "\n",
    "dend = shc.dendrogram(shc.linkage(y=transformed_data , method='complete',metric='euclidean'),orientation='right') "
   ]
  },
  {
   "cell_type": "code",
   "execution_count": 18,
   "metadata": {},
   "outputs": [
    {
     "data": {
      "text/plain": [
       "0.9735414732304287"
      ]
     },
     "execution_count": 18,
     "metadata": {},
     "output_type": "execute_result"
    }
   ],
   "source": [
    "clustering = AgglomerativeClustering(n_clusters=2).fit(transformed_data)\n",
    "labels = clustering.labels_\n",
    "\n",
    "metrics.silhouette_score(transformed_data, labels)"
   ]
  },
  {
   "cell_type": "markdown",
   "metadata": {},
   "source": [
    "## score highly increased with using PCA"
   ]
  },
  {
   "cell_type": "code",
   "execution_count": 26,
   "metadata": {},
   "outputs": [
    {
     "name": "stderr",
     "output_type": "stream",
     "text": [
      "C:\\Users\\ahmed eltabakh\\anaconda3\\lib\\site-packages\\sklearn\\utils\\validation.py:67: FutureWarning: Pass n_neighbors=3 as keyword args. From version 0.25 passing these as positional arguments will result in an error\n",
      "  warnings.warn(\"Pass {} as keyword args. From version 0.25 \"\n"
     ]
    },
    {
     "data": {
      "image/png": "[encoded data removed]",
      "text/plain": [
       "<Figure size 432x288 with 1 Axes>"
      ]
     },
     "metadata": {
      "needs_background": "light"
     },
     "output_type": "display_data"
    }
   ],
   "source": [
    "#KNN\n",
    "mins = 2\n",
    "\n",
    "nn = NearestNeighbors(mins + 1)\n",
    "\n",
    "nn.fit(transformed_data)\n",
    "\n",
    "distances, neighbors = nn.kneighbors(transformed_data)\n",
    "\n",
    "# sort the distances\n",
    "distances = np.sort(distances[:, mins], axis = 0)\n",
    "\n",
    "plt.plot(np.arange(0,len(distances)), distances)\n",
    "plt.show()"
   ]
  },
  {
   "cell_type": "code",
   "execution_count": 47,
   "metadata": {},
   "outputs": [
    {
     "name": "stdout",
     "output_type": "stream",
     "text": [
      "{0, 1, 2, -1}\n"
     ]
    },
    {
     "data": {
      "text/plain": [
       "0.7150912532295367"
      ]
     },
     "execution_count": 47,
     "metadata": {},
     "output_type": "execute_result"
    }
   ],
   "source": [
    "clustering = DBSCAN(eps=0.2, min_samples=2).fit(transformed_data)\n",
    "labels = clustering.labels_\n",
    "print(set(labels))\n",
    "metrics.silhouette_score(transformed_data, labels)"
   ]
  },
  {
   "cell_type": "markdown",
   "metadata": {},
   "source": [
    "# score highly increased using PCA"
   ]
  },
  {
   "cell_type": "code",
   "execution_count": null,
   "metadata": {},
   "outputs": [],
   "source": []
  }
 ],
 "metadata": {
  "kernelspec": {
   "display_name": "Python 3",
   "language": "python",
   "name": "python3"
  },
  "language_info": {
   "codemirror_mode": {
    "name": "ipython",
    "version": 3
   },
   "file_extension": ".py",
   "mimetype": "text/x-python",
   "name": "python",
   "nbconvert_exporter": "python",
   "pygments_lexer": "ipython3",
   "version": "3.8.5"
  }
 },
 "nbformat": 4,
 "nbformat_minor": 4
}
