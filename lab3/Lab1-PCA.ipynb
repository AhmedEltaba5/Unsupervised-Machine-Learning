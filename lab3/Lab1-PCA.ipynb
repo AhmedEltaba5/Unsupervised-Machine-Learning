{
 "cells": [
  {
   "cell_type": "markdown",
   "metadata": {},
   "source": [
    "# implement PCA"
   ]
  },
  {
   "cell_type": "code",
   "execution_count": 20,
   "metadata": {},
   "outputs": [],
   "source": [
    "import numpy as np\n",
    "import pandas as pd\n",
    "import matplotlib.pyplot as plt\n",
    "from sklearn.neighbors import NearestNeighbors"
   ]
  },
  {
   "cell_type": "code",
   "execution_count": 21,
   "metadata": {},
   "outputs": [],
   "source": [
    "#csv with decimal & null filed\n",
    "df = pd.read_csv('processed_df.csv')"
   ]
  },
  {
   "cell_type": "code",
   "execution_count": 22,
   "metadata": {},
   "outputs": [
    {
     "name": "stdout",
     "output_type": "stream",
     "text": [
      "<class 'pandas.core.frame.DataFrame'>\n",
      "RangeIndex: 227 entries, 0 to 226\n",
      "Data columns (total 20 columns):\n",
      " #   Column                              Non-Null Count  Dtype  \n",
      "---  ------                              --------------  -----  \n",
      " 0   Country                             227 non-null    int32  \n",
      " 1   Region                              227 non-null    int32  \n",
      " 2   Population                          227 non-null    int64  \n",
      " 3   Area (sq. mi.)                      227 non-null    int64  \n",
      " 4   Pop. Density (per sq. mi.)          227 non-null    float64\n",
      " 5   Coastline (coast/area ratio)        227 non-null    float64\n",
      " 6   Net migration                       227 non-null    float64\n",
      " 7   Infant mortality (per 1000 births)  227 non-null    float64\n",
      " 8   GDP ($ per capita)                  227 non-null    float64\n",
      " 9   Literacy (%)                        227 non-null    float64\n",
      " 10  Phones (per 1000)                   227 non-null    float64\n",
      " 11  Arable (%)                          227 non-null    float64\n",
      " 12  Crops (%)                           227 non-null    float64\n",
      " 13  Other (%)                           227 non-null    float64\n",
      " 14  Climate                             227 non-null    float64\n",
      " 15  Birthrate                           227 non-null    float64\n",
      " 16  Deathrate                           227 non-null    float64\n",
      " 17  Agriculture                         227 non-null    float64\n",
      " 18  Industry                            227 non-null    float64\n",
      " 19  Service                             227 non-null    float64\n",
      "dtypes: float64(16), int32(2), int64(2)\n",
      "memory usage: 33.8 KB\n"
     ]
    }
   ],
   "source": [
    "from sklearn.preprocessing import LabelEncoder\n",
    "\n",
    "# creating instance of labelencoder\n",
    "labelencoder = LabelEncoder()\n",
    "# Assigning numerical values and storing in another column\n",
    "df['Country'] = labelencoder.fit_transform(df['Country'])\n",
    "df['Region'] = labelencoder.fit_transform(df['Region'])\n",
    "\n",
    "df.info()"
   ]
  },
  {
   "cell_type": "code",
   "execution_count": 23,
   "metadata": {},
   "outputs": [],
   "source": [
    "def PCA(x):\n",
    "    #subtract from mean and divide by standard deviation\n",
    "    x_standarized = (x - np.mean(x, axis=0)) / np.std(x, axis=0)\n",
    "    print('x_standarized mean: ', np.mean(x_standarized))\n",
    "    print('x_standarized standard deviation: ', np.std(x_standarized))\n",
    "    #get covariance matrix\n",
    "    cov_matrix = np.cov(x_standarized.T)\n",
    "    print('cov matrix shape', cov_matrix.shape)\n",
    "    #eigen values, eigne vectors\n",
    "    eigen_values, eigen_vectors = np.linalg.eig(cov_matrix)\n",
    "    \n",
    "    return eigen_values, eigen_vectors"
   ]
  },
  {
   "cell_type": "code",
   "execution_count": 24,
   "metadata": {},
   "outputs": [
    {
     "name": "stdout",
     "output_type": "stream",
     "text": [
      "x_standarized mean:  -4.1865678814058764e-17\n",
      "x_standarized standard deviation:  1.0\n",
      "cov matrix shape (20, 20)\n"
     ]
    }
   ],
   "source": [
    "x = df.values\n",
    "eigen_values, eigen_vectors = PCA(x)"
   ]
  },
  {
   "cell_type": "code",
   "execution_count": 25,
   "metadata": {},
   "outputs": [
    {
     "data": {
      "text/plain": [
       "array([5.41057892e+00, 2.51240914e+00, 1.97154237e+00, 1.71240811e+00,\n",
       "       1.34582957e+00, 1.11649535e+00, 1.06774723e+00, 9.42470017e-01,\n",
       "       8.17921292e-01, 5.99062861e-01, 5.48894178e-01, 5.08025579e-01,\n",
       "       4.57136275e-01, 3.66685525e-01, 3.13156314e-01, 1.84899840e-01,\n",
       "       1.38272528e-01, 6.86310227e-02, 6.19705895e-03, 1.32398471e-04])"
      ]
     },
     "execution_count": 25,
     "metadata": {},
     "output_type": "execute_result"
    }
   ],
   "source": [
    "eigen_values"
   ]
  },
  {
   "cell_type": "code",
   "execution_count": 26,
   "metadata": {},
   "outputs": [
    {
     "data": {
      "text/plain": [
       "array([2.69337188e-01, 1.25067063e-01, 9.81428581e-02, 8.52432230e-02,\n",
       "       6.69950403e-02, 5.55788433e-02, 5.31521747e-02, 4.69159084e-02,\n",
       "       4.07159057e-02, 2.98211909e-02, 2.73238071e-02, 2.52893790e-02,\n",
       "       2.27561230e-02, 1.82535085e-02, 1.55888386e-02, 9.20426514e-03,\n",
       "       6.88316988e-03, 3.41643417e-03, 3.08487956e-04, 6.59076088e-06])"
      ]
     },
     "execution_count": 26,
     "metadata": {},
     "output_type": "execute_result"
    }
   ],
   "source": [
    "#normalize eigen values\n",
    "eigen_values = eigen_values / np.sum(eigen_values)\n",
    "eigen_values"
   ]
  },
  {
   "cell_type": "code",
   "execution_count": 27,
   "metadata": {},
   "outputs": [
    {
     "data": {
      "text/plain": [
       "array([0.26933719, 0.39440425, 0.49254711, 0.57779033, 0.64478537,\n",
       "       0.70036422, 0.75351639, 0.8004323 , 0.84114821, 0.8709694 ,\n",
       "       0.8982932 , 0.92358258, 0.94633871, 0.96459221, 0.98018105,\n",
       "       0.98938532, 0.99626849, 0.99968492, 0.99999341, 1.        ])"
      ]
     },
     "execution_count": 27,
     "metadata": {},
     "output_type": "execute_result"
    }
   ],
   "source": [
    "eigen_values.cumsum()"
   ]
  },
  {
   "cell_type": "code",
   "execution_count": 28,
   "metadata": {},
   "outputs": [
    {
     "data": {
      "image/png": "[encoded data removed]",
      "text/plain": [
       "<Figure size 432x288 with 1 Axes>"
      ]
     },
     "metadata": {
      "needs_background": "light"
     },
     "output_type": "display_data"
    }
   ],
   "source": [
    "#Visualize eigen values as cumulative to choose 95% of variance\n",
    "x_values = range(1, len(eigen_values)+1)\n",
    "plt.bar(x_values, eigen_values.cumsum())\n",
    "plt.xticks([1,2,3,4,5,6,7,8,9,10,11,12,13,14,15,16,17,18,19,20])\n",
    "plt.yticks([0,0.1,0.2,0.3,0.4,0.5,0.6,0.7,0.8,0.9,1])\n",
    "plt.xlabel('eigen values indeces')\n",
    "plt.ylabel('cumulative eigen values')\n",
    "plt.show()"
   ]
  },
  {
   "cell_type": "markdown",
   "metadata": {},
   "source": [
    "## From graph select 12 components"
   ]
  },
  {
   "cell_type": "code",
   "execution_count": 29,
   "metadata": {},
   "outputs": [
    {
     "data": {
      "text/plain": [
       "(20, 20)"
      ]
     },
     "execution_count": 29,
     "metadata": {},
     "output_type": "execute_result"
    }
   ],
   "source": [
    "eigen_vectors.shape"
   ]
  },
  {
   "cell_type": "code",
   "execution_count": 30,
   "metadata": {},
   "outputs": [
    {
     "data": {
      "text/plain": [
       "(227, 12)"
      ]
     },
     "execution_count": 30,
     "metadata": {},
     "output_type": "execute_result"
    }
   ],
   "source": [
    "# transform the data\n",
    "transformed_x = np.dot(x, eigen_vectors[:,:12])\n",
    "transformed_x.shape"
   ]
  },
  {
   "cell_type": "code",
   "execution_count": 31,
   "metadata": {},
   "outputs": [
    {
     "data": {
      "text/plain": [
       "array([[   287547.81581914,  -1108696.27529471, -13364858.35298362, ...,\n",
       "         -2028129.80850959,  -2192557.03400759,  16044792.1358551 ],\n",
       "       [    31902.51133044,   -134000.5062699 ,  -1524440.95479167, ...,\n",
       "          -234578.73590747,   -263323.52868638,   1872178.22914142],\n",
       "       [   292799.35046704,   -913359.50487358, -14782758.11934518, ...,\n",
       "         -2130131.57921082,  -1940741.94444454,  16216266.45999477],\n",
       "       ...,\n",
       "       [   198030.31203822,   -753466.65394881,  -9262396.47048051, ...,\n",
       "         -1400195.6781539 ,  -1496497.66948182,  11046932.21793752],\n",
       "       [   103221.16986646,   -331479.22188054,  -5134828.95718677, ...,\n",
       "          -744932.28880465,   -695828.37913551,   5701282.63222302],\n",
       "       [   111913.33454951,   -415624.22054627,  -5314710.6077456 , ...,\n",
       "          -797519.12717441,   -833241.73575628,   6258258.89051679]])"
      ]
     },
     "execution_count": 31,
     "metadata": {},
     "output_type": "execute_result"
    }
   ],
   "source": [
    "transformed_x"
   ]
  },
  {
   "cell_type": "code",
   "execution_count": 32,
   "metadata": {},
   "outputs": [],
   "source": [
    "transformed_x_df = pd.DataFrame(transformed_x)\n",
    "transformed_x_df.to_csv('transformed_x_df.csv', index=False)"
   ]
  },
  {
   "cell_type": "code",
   "execution_count": null,
   "metadata": {},
   "outputs": [],
   "source": []
  },
  {
   "cell_type": "code",
   "execution_count": null,
   "metadata": {},
   "outputs": [],
   "source": []
  },
  {
   "cell_type": "code",
   "execution_count": null,
   "metadata": {},
   "outputs": [],
   "source": []
  }
 ],
 "metadata": {
  "kernelspec": {
   "display_name": "Python 3",
   "language": "python",
   "name": "python3"
  },
  "language_info": {
   "codemirror_mode": {
    "name": "ipython",
    "version": 3
   },
   "file_extension": ".py",
   "mimetype": "text/x-python",
   "name": "python",
   "nbconvert_exporter": "python",
   "pygments_lexer": "ipython3",
   "version": "3.8.5"
  }
 },
 "nbformat": 4,
 "nbformat_minor": 4
}
