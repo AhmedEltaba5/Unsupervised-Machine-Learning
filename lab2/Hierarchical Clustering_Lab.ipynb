{
 "cells": [
  {
   "cell_type": "markdown",
   "metadata": {},
   "source": [
    "# <a name=\"0\">Hierarchical Clustering</a>"
   ]
  },
  {
   "cell_type": "markdown",
   "metadata": {},
   "source": [
    "1. <a href=\"#1\">Read the dataset</a>\n",
    "2. <a href=\"#2\">Data investigation</a>\n",
    "3. <a href=\"#3\">Data preprocessing </a>\n",
    "4. <a href=\"#4\">Features transformation </a>\n",
    "4. <a href=\"#5\">Training datasets</a>\n",
    "5. <a href=\"#6\">Improvement ideas</a>\n",
    "\n"
   ]
  },
  {
   "cell_type": "code",
   "execution_count": 309,
   "metadata": {},
   "outputs": [],
   "source": [
    "import pandas as pd\n",
    "import numpy as np\n",
    "import matplotlib.pyplot as plt\n",
    "import seaborn as sns\n",
    "import warnings\n",
    "warnings.filterwarnings(\"ignore\")"
   ]
  },
  {
   "cell_type": "markdown",
   "metadata": {},
   "source": [
    "## 1. <a name=\"1\">Read the dataset</a>\n",
    "(<a href=\"#0\">Go to top</a>)\n",
    "\n",
    "First dowmload the data set from this link https://www.kaggle.com/fernandol/countries-of-the-world\n",
    "then import it in python."
   ]
  },
  {
   "cell_type": "code",
   "execution_count": 310,
   "metadata": {},
   "outputs": [
    {
     "name": "stdout",
     "output_type": "stream",
     "text": [
      "The shape of the dataset is: (227, 20)\n"
     ]
    }
   ],
   "source": [
    "#read the data\n",
    "\n",
    "data_path = 'countries of the world.csv'  #the path where you downloaded the data\n",
    "df = pd.read_csv(data_path)\n",
    "\n",
    "print('The shape of the dataset is:', df.shape)"
   ]
  },
  {
   "cell_type": "markdown",
   "metadata": {},
   "source": [
    "## 2. <a name=\"2\">Data investigation</a>\n",
    "(<a href=\"#0\">Go to top</a>)\n",
    "\n",
    "in this part you need to check the data quality and assess any issues in the data as:\n",
    "- null values in each column \n",
    "- each column has the proper data type\n",
    "- outliers\n",
    "- duplicate rows\n",
    "- distribution for each column (skewness)\n",
    "<br>\n",
    "\n",
    "**comment each issue you find** "
   ]
  },
  {
   "cell_type": "code",
   "execution_count": 311,
   "metadata": {},
   "outputs": [
    {
     "name": "stdout",
     "output_type": "stream",
     "text": [
      "<class 'pandas.core.frame.DataFrame'>\n",
      "RangeIndex: 227 entries, 0 to 226\n",
      "Data columns (total 20 columns):\n",
      " #   Column                              Non-Null Count  Dtype  \n",
      "---  ------                              --------------  -----  \n",
      " 0   Country                             227 non-null    object \n",
      " 1   Region                              227 non-null    object \n",
      " 2   Population                          227 non-null    int64  \n",
      " 3   Area (sq. mi.)                      227 non-null    int64  \n",
      " 4   Pop. Density (per sq. mi.)          227 non-null    object \n",
      " 5   Coastline (coast/area ratio)        227 non-null    object \n",
      " 6   Net migration                       224 non-null    object \n",
      " 7   Infant mortality (per 1000 births)  224 non-null    object \n",
      " 8   GDP ($ per capita)                  226 non-null    float64\n",
      " 9   Literacy (%)                        209 non-null    object \n",
      " 10  Phones (per 1000)                   223 non-null    object \n",
      " 11  Arable (%)                          225 non-null    object \n",
      " 12  Crops (%)                           225 non-null    object \n",
      " 13  Other (%)                           225 non-null    object \n",
      " 14  Climate                             205 non-null    object \n",
      " 15  Birthrate                           224 non-null    object \n",
      " 16  Deathrate                           223 non-null    object \n",
      " 17  Agriculture                         212 non-null    object \n",
      " 18  Industry                            211 non-null    object \n",
      " 19  Service                             212 non-null    object \n",
      "dtypes: float64(1), int64(2), object(17)\n",
      "memory usage: 35.6+ KB\n"
     ]
    }
   ],
   "source": [
    "# Let's see the data types and non-null values for each column\n",
    "df.info()"
   ]
  },
  {
   "cell_type": "code",
   "execution_count": 312,
   "metadata": {},
   "outputs": [
    {
     "data": {
      "text/plain": [
       "Country                               0.00\n",
       "Region                                0.00\n",
       "Population                            0.00\n",
       "Area (sq. mi.)                        0.00\n",
       "Pop. Density (per sq. mi.)            0.00\n",
       "Coastline (coast/area ratio)          0.00\n",
       "Net migration                         1.32\n",
       "Infant mortality (per 1000 births)    1.32\n",
       "GDP ($ per capita)                    0.44\n",
       "Literacy (%)                          7.93\n",
       "Phones (per 1000)                     1.76\n",
       "Arable (%)                            0.88\n",
       "Crops (%)                             0.88\n",
       "Other (%)                             0.88\n",
       "Climate                               9.69\n",
       "Birthrate                             1.32\n",
       "Deathrate                             1.76\n",
       "Agriculture                           6.61\n",
       "Industry                              7.05\n",
       "Service                               6.61\n",
       "dtype: float64"
      ]
     },
     "execution_count": 312,
     "metadata": {},
     "output_type": "execute_result"
    }
   ],
   "source": [
    "round(df.isnull().sum(axis=0)*100/df.shape[0],2)"
   ]
  },
  {
   "cell_type": "code",
   "execution_count": 313,
   "metadata": {},
   "outputs": [
    {
     "data": {
      "text/html": [
       "<div>\n",
       "<style scoped>\n",
       "    .dataframe tbody tr th:only-of-type {\n",
       "        vertical-align: middle;\n",
       "    }\n",
       "\n",
       "    .dataframe tbody tr th {\n",
       "        vertical-align: top;\n",
       "    }\n",
       "\n",
       "    .dataframe thead th {\n",
       "        text-align: right;\n",
       "    }\n",
       "</style>\n",
       "<table border=\"1\" class=\"dataframe\">\n",
       "  <thead>\n",
       "    <tr style=\"text-align: right;\">\n",
       "      <th></th>\n",
       "      <th>Population</th>\n",
       "      <th>Area (sq. mi.)</th>\n",
       "      <th>GDP ($ per capita)</th>\n",
       "    </tr>\n",
       "  </thead>\n",
       "  <tbody>\n",
       "    <tr>\n",
       "      <th>count</th>\n",
       "      <td>2.270000e+02</td>\n",
       "      <td>2.270000e+02</td>\n",
       "      <td>226.000000</td>\n",
       "    </tr>\n",
       "    <tr>\n",
       "      <th>mean</th>\n",
       "      <td>2.874028e+07</td>\n",
       "      <td>5.982270e+05</td>\n",
       "      <td>9689.823009</td>\n",
       "    </tr>\n",
       "    <tr>\n",
       "      <th>std</th>\n",
       "      <td>1.178913e+08</td>\n",
       "      <td>1.790282e+06</td>\n",
       "      <td>10049.138513</td>\n",
       "    </tr>\n",
       "    <tr>\n",
       "      <th>min</th>\n",
       "      <td>7.026000e+03</td>\n",
       "      <td>2.000000e+00</td>\n",
       "      <td>500.000000</td>\n",
       "    </tr>\n",
       "    <tr>\n",
       "      <th>25%</th>\n",
       "      <td>4.376240e+05</td>\n",
       "      <td>4.647500e+03</td>\n",
       "      <td>1900.000000</td>\n",
       "    </tr>\n",
       "    <tr>\n",
       "      <th>50%</th>\n",
       "      <td>4.786994e+06</td>\n",
       "      <td>8.660000e+04</td>\n",
       "      <td>5550.000000</td>\n",
       "    </tr>\n",
       "    <tr>\n",
       "      <th>75%</th>\n",
       "      <td>1.749777e+07</td>\n",
       "      <td>4.418110e+05</td>\n",
       "      <td>15700.000000</td>\n",
       "    </tr>\n",
       "    <tr>\n",
       "      <th>max</th>\n",
       "      <td>1.313974e+09</td>\n",
       "      <td>1.707520e+07</td>\n",
       "      <td>55100.000000</td>\n",
       "    </tr>\n",
       "  </tbody>\n",
       "</table>\n",
       "</div>"
      ],
      "text/plain": [
       "         Population  Area (sq. mi.)  GDP ($ per capita)\n",
       "count  2.270000e+02    2.270000e+02          226.000000\n",
       "mean   2.874028e+07    5.982270e+05         9689.823009\n",
       "std    1.178913e+08    1.790282e+06        10049.138513\n",
       "min    7.026000e+03    2.000000e+00          500.000000\n",
       "25%    4.376240e+05    4.647500e+03         1900.000000\n",
       "50%    4.786994e+06    8.660000e+04         5550.000000\n",
       "75%    1.749777e+07    4.418110e+05        15700.000000\n",
       "max    1.313974e+09    1.707520e+07        55100.000000"
      ]
     },
     "execution_count": 313,
     "metadata": {},
     "output_type": "execute_result"
    }
   ],
   "source": [
    "# This will print basic statistics for numerical columns\n",
    "df.describe()"
   ]
  },
  {
   "cell_type": "code",
   "execution_count": 314,
   "metadata": {},
   "outputs": [
    {
     "data": {
      "text/html": [
       "<div>\n",
       "<style scoped>\n",
       "    .dataframe tbody tr th:only-of-type {\n",
       "        vertical-align: middle;\n",
       "    }\n",
       "\n",
       "    .dataframe tbody tr th {\n",
       "        vertical-align: top;\n",
       "    }\n",
       "\n",
       "    .dataframe thead th {\n",
       "        text-align: right;\n",
       "    }\n",
       "</style>\n",
       "<table border=\"1\" class=\"dataframe\">\n",
       "  <thead>\n",
       "    <tr style=\"text-align: right;\">\n",
       "      <th></th>\n",
       "      <th>Country</th>\n",
       "      <th>Region</th>\n",
       "      <th>Population</th>\n",
       "      <th>Area (sq. mi.)</th>\n",
       "      <th>Pop. Density (per sq. mi.)</th>\n",
       "      <th>Coastline (coast/area ratio)</th>\n",
       "      <th>Net migration</th>\n",
       "      <th>Infant mortality (per 1000 births)</th>\n",
       "      <th>GDP ($ per capita)</th>\n",
       "      <th>Literacy (%)</th>\n",
       "      <th>Phones (per 1000)</th>\n",
       "      <th>Arable (%)</th>\n",
       "      <th>Crops (%)</th>\n",
       "      <th>Other (%)</th>\n",
       "      <th>Climate</th>\n",
       "      <th>Birthrate</th>\n",
       "      <th>Deathrate</th>\n",
       "      <th>Agriculture</th>\n",
       "      <th>Industry</th>\n",
       "      <th>Service</th>\n",
       "    </tr>\n",
       "  </thead>\n",
       "  <tbody>\n",
       "    <tr>\n",
       "      <th>0</th>\n",
       "      <td>Afghanistan</td>\n",
       "      <td>ASIA (EX. NEAR EAST)</td>\n",
       "      <td>31056997</td>\n",
       "      <td>647500</td>\n",
       "      <td>48,0</td>\n",
       "      <td>0,00</td>\n",
       "      <td>23,06</td>\n",
       "      <td>163,07</td>\n",
       "      <td>700.0</td>\n",
       "      <td>36,0</td>\n",
       "      <td>3,2</td>\n",
       "      <td>12,13</td>\n",
       "      <td>0,22</td>\n",
       "      <td>87,65</td>\n",
       "      <td>1</td>\n",
       "      <td>46,6</td>\n",
       "      <td>20,34</td>\n",
       "      <td>0,38</td>\n",
       "      <td>0,24</td>\n",
       "      <td>0,38</td>\n",
       "    </tr>\n",
       "    <tr>\n",
       "      <th>1</th>\n",
       "      <td>Albania</td>\n",
       "      <td>EASTERN EUROPE</td>\n",
       "      <td>3581655</td>\n",
       "      <td>28748</td>\n",
       "      <td>124,6</td>\n",
       "      <td>1,26</td>\n",
       "      <td>-4,93</td>\n",
       "      <td>21,52</td>\n",
       "      <td>4500.0</td>\n",
       "      <td>86,5</td>\n",
       "      <td>71,2</td>\n",
       "      <td>21,09</td>\n",
       "      <td>4,42</td>\n",
       "      <td>74,49</td>\n",
       "      <td>3</td>\n",
       "      <td>15,11</td>\n",
       "      <td>5,22</td>\n",
       "      <td>0,232</td>\n",
       "      <td>0,188</td>\n",
       "      <td>0,579</td>\n",
       "    </tr>\n",
       "    <tr>\n",
       "      <th>2</th>\n",
       "      <td>Algeria</td>\n",
       "      <td>NORTHERN AFRICA</td>\n",
       "      <td>32930091</td>\n",
       "      <td>2381740</td>\n",
       "      <td>13,8</td>\n",
       "      <td>0,04</td>\n",
       "      <td>-0,39</td>\n",
       "      <td>31</td>\n",
       "      <td>6000.0</td>\n",
       "      <td>70,0</td>\n",
       "      <td>78,1</td>\n",
       "      <td>3,22</td>\n",
       "      <td>0,25</td>\n",
       "      <td>96,53</td>\n",
       "      <td>1</td>\n",
       "      <td>17,14</td>\n",
       "      <td>4,61</td>\n",
       "      <td>0,101</td>\n",
       "      <td>0,6</td>\n",
       "      <td>0,298</td>\n",
       "    </tr>\n",
       "    <tr>\n",
       "      <th>3</th>\n",
       "      <td>American Samoa</td>\n",
       "      <td>OCEANIA</td>\n",
       "      <td>57794</td>\n",
       "      <td>199</td>\n",
       "      <td>290,4</td>\n",
       "      <td>58,29</td>\n",
       "      <td>-20,71</td>\n",
       "      <td>9,27</td>\n",
       "      <td>8000.0</td>\n",
       "      <td>97,0</td>\n",
       "      <td>259,5</td>\n",
       "      <td>10</td>\n",
       "      <td>15</td>\n",
       "      <td>75</td>\n",
       "      <td>2</td>\n",
       "      <td>22,46</td>\n",
       "      <td>3,27</td>\n",
       "      <td>NaN</td>\n",
       "      <td>NaN</td>\n",
       "      <td>NaN</td>\n",
       "    </tr>\n",
       "    <tr>\n",
       "      <th>4</th>\n",
       "      <td>Andorra</td>\n",
       "      <td>WESTERN EUROPE</td>\n",
       "      <td>71201</td>\n",
       "      <td>468</td>\n",
       "      <td>152,1</td>\n",
       "      <td>0,00</td>\n",
       "      <td>6,6</td>\n",
       "      <td>4,05</td>\n",
       "      <td>19000.0</td>\n",
       "      <td>100,0</td>\n",
       "      <td>497,2</td>\n",
       "      <td>2,22</td>\n",
       "      <td>0</td>\n",
       "      <td>97,78</td>\n",
       "      <td>3</td>\n",
       "      <td>8,71</td>\n",
       "      <td>6,25</td>\n",
       "      <td>NaN</td>\n",
       "      <td>NaN</td>\n",
       "      <td>NaN</td>\n",
       "    </tr>\n",
       "  </tbody>\n",
       "</table>\n",
       "</div>"
      ],
      "text/plain": [
       "           Country                               Region  Population  \\\n",
       "0     Afghanistan         ASIA (EX. NEAR EAST)             31056997   \n",
       "1         Albania   EASTERN EUROPE                          3581655   \n",
       "2         Algeria   NORTHERN AFRICA                        32930091   \n",
       "3  American Samoa   OCEANIA                                   57794   \n",
       "4         Andorra   WESTERN EUROPE                            71201   \n",
       "\n",
       "   Area (sq. mi.) Pop. Density (per sq. mi.) Coastline (coast/area ratio)  \\\n",
       "0          647500                       48,0                         0,00   \n",
       "1           28748                      124,6                         1,26   \n",
       "2         2381740                       13,8                         0,04   \n",
       "3             199                      290,4                        58,29   \n",
       "4             468                      152,1                         0,00   \n",
       "\n",
       "  Net migration Infant mortality (per 1000 births)  GDP ($ per capita)  \\\n",
       "0         23,06                             163,07               700.0   \n",
       "1         -4,93                              21,52              4500.0   \n",
       "2         -0,39                                 31              6000.0   \n",
       "3        -20,71                               9,27              8000.0   \n",
       "4           6,6                               4,05             19000.0   \n",
       "\n",
       "  Literacy (%) Phones (per 1000) Arable (%) Crops (%) Other (%) Climate  \\\n",
       "0         36,0               3,2      12,13      0,22     87,65       1   \n",
       "1         86,5              71,2      21,09      4,42     74,49       3   \n",
       "2         70,0              78,1       3,22      0,25     96,53       1   \n",
       "3         97,0             259,5         10        15        75       2   \n",
       "4        100,0             497,2       2,22         0     97,78       3   \n",
       "\n",
       "  Birthrate Deathrate Agriculture Industry Service  \n",
       "0      46,6     20,34        0,38     0,24    0,38  \n",
       "1     15,11      5,22       0,232    0,188   0,579  \n",
       "2     17,14      4,61       0,101      0,6   0,298  \n",
       "3     22,46      3,27         NaN      NaN     NaN  \n",
       "4      8,71      6,25         NaN      NaN     NaN  "
      ]
     },
     "execution_count": 314,
     "metadata": {},
     "output_type": "execute_result"
    }
   ],
   "source": [
    "df.head()"
   ]
  },
  {
   "cell_type": "markdown",
   "metadata": {},
   "source": [
    "## 3. <a name=\"3\">Data preprocessing</a>\n",
    "(<a href=\"#0\">Go to top</a>)\n"
   ]
  },
  {
   "cell_type": "markdown",
   "metadata": {},
   "source": [
    "### Define below all the issues that you had found in the previous part\n",
    "1- Null values to be removed <br>\n",
    "2- object to float change <br>\n",
    "3- replace comma with dot <br>\n",
    "4- check duplicates"
   ]
  },
  {
   "cell_type": "code",
   "execution_count": 315,
   "metadata": {},
   "outputs": [],
   "source": [
    "#make a copy for the original dataset\n",
    "df_copy=df.copy()"
   ]
  },
  {
   "cell_type": "markdown",
   "metadata": {},
   "source": [
    "### for each issue adapt this methodology \n",
    "- start by defining the solution\n",
    "- apply this solution onn the data\n",
    "- test the solution to make sure that you have solved the issue"
   ]
  },
  {
   "cell_type": "markdown",
   "metadata": {},
   "source": [
    "**First issue**\n",
    "## replace comma with dot"
   ]
  },
  {
   "cell_type": "code",
   "execution_count": 316,
   "metadata": {},
   "outputs": [
    {
     "data": {
      "text/plain": [
       "Index(['Country', 'Region', 'Population', 'Area (sq. mi.)',\n",
       "       'Pop. Density (per sq. mi.)', 'Coastline (coast/area ratio)',\n",
       "       'Net migration', 'Infant mortality (per 1000 births)',\n",
       "       'GDP ($ per capita)', 'Literacy (%)', 'Phones (per 1000)', 'Arable (%)',\n",
       "       'Crops (%)', 'Other (%)', 'Climate', 'Birthrate', 'Deathrate',\n",
       "       'Agriculture', 'Industry', 'Service'],\n",
       "      dtype='object')"
      ]
     },
     "execution_count": 316,
     "metadata": {},
     "output_type": "execute_result"
    }
   ],
   "source": [
    "df_copy.columns"
   ]
  },
  {
   "cell_type": "code",
   "execution_count": 317,
   "metadata": {},
   "outputs": [],
   "source": [
    "#solution \n",
    "for col in df_copy.columns[4:]:\n",
    "    if col == 'GDP ($ per capita)':\n",
    "        pass\n",
    "    else:\n",
    "        df_copy[col] = df_copy[col].str.replace(',','.')"
   ]
  },
  {
   "cell_type": "code",
   "execution_count": 318,
   "metadata": {},
   "outputs": [
    {
     "data": {
      "text/html": [
       "<div>\n",
       "<style scoped>\n",
       "    .dataframe tbody tr th:only-of-type {\n",
       "        vertical-align: middle;\n",
       "    }\n",
       "\n",
       "    .dataframe tbody tr th {\n",
       "        vertical-align: top;\n",
       "    }\n",
       "\n",
       "    .dataframe thead th {\n",
       "        text-align: right;\n",
       "    }\n",
       "</style>\n",
       "<table border=\"1\" class=\"dataframe\">\n",
       "  <thead>\n",
       "    <tr style=\"text-align: right;\">\n",
       "      <th></th>\n",
       "      <th>Country</th>\n",
       "      <th>Region</th>\n",
       "      <th>Population</th>\n",
       "      <th>Area (sq. mi.)</th>\n",
       "      <th>Pop. Density (per sq. mi.)</th>\n",
       "      <th>Coastline (coast/area ratio)</th>\n",
       "      <th>Net migration</th>\n",
       "      <th>Infant mortality (per 1000 births)</th>\n",
       "      <th>GDP ($ per capita)</th>\n",
       "      <th>Literacy (%)</th>\n",
       "      <th>Phones (per 1000)</th>\n",
       "      <th>Arable (%)</th>\n",
       "      <th>Crops (%)</th>\n",
       "      <th>Other (%)</th>\n",
       "      <th>Climate</th>\n",
       "      <th>Birthrate</th>\n",
       "      <th>Deathrate</th>\n",
       "      <th>Agriculture</th>\n",
       "      <th>Industry</th>\n",
       "      <th>Service</th>\n",
       "    </tr>\n",
       "  </thead>\n",
       "  <tbody>\n",
       "    <tr>\n",
       "      <th>0</th>\n",
       "      <td>Afghanistan</td>\n",
       "      <td>ASIA (EX. NEAR EAST)</td>\n",
       "      <td>31056997</td>\n",
       "      <td>647500</td>\n",
       "      <td>48.0</td>\n",
       "      <td>0.00</td>\n",
       "      <td>23.06</td>\n",
       "      <td>163.07</td>\n",
       "      <td>700.0</td>\n",
       "      <td>36.0</td>\n",
       "      <td>3.2</td>\n",
       "      <td>12.13</td>\n",
       "      <td>0.22</td>\n",
       "      <td>87.65</td>\n",
       "      <td>1</td>\n",
       "      <td>46.6</td>\n",
       "      <td>20.34</td>\n",
       "      <td>0.38</td>\n",
       "      <td>0.24</td>\n",
       "      <td>0.38</td>\n",
       "    </tr>\n",
       "    <tr>\n",
       "      <th>1</th>\n",
       "      <td>Albania</td>\n",
       "      <td>EASTERN EUROPE</td>\n",
       "      <td>3581655</td>\n",
       "      <td>28748</td>\n",
       "      <td>124.6</td>\n",
       "      <td>1.26</td>\n",
       "      <td>-4.93</td>\n",
       "      <td>21.52</td>\n",
       "      <td>4500.0</td>\n",
       "      <td>86.5</td>\n",
       "      <td>71.2</td>\n",
       "      <td>21.09</td>\n",
       "      <td>4.42</td>\n",
       "      <td>74.49</td>\n",
       "      <td>3</td>\n",
       "      <td>15.11</td>\n",
       "      <td>5.22</td>\n",
       "      <td>0.232</td>\n",
       "      <td>0.188</td>\n",
       "      <td>0.579</td>\n",
       "    </tr>\n",
       "    <tr>\n",
       "      <th>2</th>\n",
       "      <td>Algeria</td>\n",
       "      <td>NORTHERN AFRICA</td>\n",
       "      <td>32930091</td>\n",
       "      <td>2381740</td>\n",
       "      <td>13.8</td>\n",
       "      <td>0.04</td>\n",
       "      <td>-0.39</td>\n",
       "      <td>31</td>\n",
       "      <td>6000.0</td>\n",
       "      <td>70.0</td>\n",
       "      <td>78.1</td>\n",
       "      <td>3.22</td>\n",
       "      <td>0.25</td>\n",
       "      <td>96.53</td>\n",
       "      <td>1</td>\n",
       "      <td>17.14</td>\n",
       "      <td>4.61</td>\n",
       "      <td>0.101</td>\n",
       "      <td>0.6</td>\n",
       "      <td>0.298</td>\n",
       "    </tr>\n",
       "    <tr>\n",
       "      <th>3</th>\n",
       "      <td>American Samoa</td>\n",
       "      <td>OCEANIA</td>\n",
       "      <td>57794</td>\n",
       "      <td>199</td>\n",
       "      <td>290.4</td>\n",
       "      <td>58.29</td>\n",
       "      <td>-20.71</td>\n",
       "      <td>9.27</td>\n",
       "      <td>8000.0</td>\n",
       "      <td>97.0</td>\n",
       "      <td>259.5</td>\n",
       "      <td>10</td>\n",
       "      <td>15</td>\n",
       "      <td>75</td>\n",
       "      <td>2</td>\n",
       "      <td>22.46</td>\n",
       "      <td>3.27</td>\n",
       "      <td>NaN</td>\n",
       "      <td>NaN</td>\n",
       "      <td>NaN</td>\n",
       "    </tr>\n",
       "    <tr>\n",
       "      <th>4</th>\n",
       "      <td>Andorra</td>\n",
       "      <td>WESTERN EUROPE</td>\n",
       "      <td>71201</td>\n",
       "      <td>468</td>\n",
       "      <td>152.1</td>\n",
       "      <td>0.00</td>\n",
       "      <td>6.6</td>\n",
       "      <td>4.05</td>\n",
       "      <td>19000.0</td>\n",
       "      <td>100.0</td>\n",
       "      <td>497.2</td>\n",
       "      <td>2.22</td>\n",
       "      <td>0</td>\n",
       "      <td>97.78</td>\n",
       "      <td>3</td>\n",
       "      <td>8.71</td>\n",
       "      <td>6.25</td>\n",
       "      <td>NaN</td>\n",
       "      <td>NaN</td>\n",
       "      <td>NaN</td>\n",
       "    </tr>\n",
       "  </tbody>\n",
       "</table>\n",
       "</div>"
      ],
      "text/plain": [
       "           Country                               Region  Population  \\\n",
       "0     Afghanistan         ASIA (EX. NEAR EAST)             31056997   \n",
       "1         Albania   EASTERN EUROPE                          3581655   \n",
       "2         Algeria   NORTHERN AFRICA                        32930091   \n",
       "3  American Samoa   OCEANIA                                   57794   \n",
       "4         Andorra   WESTERN EUROPE                            71201   \n",
       "\n",
       "   Area (sq. mi.) Pop. Density (per sq. mi.) Coastline (coast/area ratio)  \\\n",
       "0          647500                       48.0                         0.00   \n",
       "1           28748                      124.6                         1.26   \n",
       "2         2381740                       13.8                         0.04   \n",
       "3             199                      290.4                        58.29   \n",
       "4             468                      152.1                         0.00   \n",
       "\n",
       "  Net migration Infant mortality (per 1000 births)  GDP ($ per capita)  \\\n",
       "0         23.06                             163.07               700.0   \n",
       "1         -4.93                              21.52              4500.0   \n",
       "2         -0.39                                 31              6000.0   \n",
       "3        -20.71                               9.27              8000.0   \n",
       "4           6.6                               4.05             19000.0   \n",
       "\n",
       "  Literacy (%) Phones (per 1000) Arable (%) Crops (%) Other (%) Climate  \\\n",
       "0         36.0               3.2      12.13      0.22     87.65       1   \n",
       "1         86.5              71.2      21.09      4.42     74.49       3   \n",
       "2         70.0              78.1       3.22      0.25     96.53       1   \n",
       "3         97.0             259.5         10        15        75       2   \n",
       "4        100.0             497.2       2.22         0     97.78       3   \n",
       "\n",
       "  Birthrate Deathrate Agriculture Industry Service  \n",
       "0      46.6     20.34        0.38     0.24    0.38  \n",
       "1     15.11      5.22       0.232    0.188   0.579  \n",
       "2     17.14      4.61       0.101      0.6   0.298  \n",
       "3     22.46      3.27         NaN      NaN     NaN  \n",
       "4      8.71      6.25         NaN      NaN     NaN  "
      ]
     },
     "execution_count": 318,
     "metadata": {},
     "output_type": "execute_result"
    }
   ],
   "source": [
    "#test \n",
    "df_copy.head()"
   ]
  },
  {
   "cell_type": "markdown",
   "metadata": {},
   "source": [
    "**Second issue**\n",
    "## change datatype to float"
   ]
  },
  {
   "cell_type": "code",
   "execution_count": 319,
   "metadata": {},
   "outputs": [],
   "source": [
    "#solution \n",
    "#solution \n",
    "for col in df_copy.columns[4:]:\n",
    "    if col == 'GDP ($ per capita)':\n",
    "        pass\n",
    "    else:\n",
    "        df_copy[col] = df_copy[col].astype('float64')"
   ]
  },
  {
   "cell_type": "code",
   "execution_count": 320,
   "metadata": {},
   "outputs": [
    {
     "name": "stdout",
     "output_type": "stream",
     "text": [
      "<class 'pandas.core.frame.DataFrame'>\n",
      "RangeIndex: 227 entries, 0 to 226\n",
      "Data columns (total 20 columns):\n",
      " #   Column                              Non-Null Count  Dtype  \n",
      "---  ------                              --------------  -----  \n",
      " 0   Country                             227 non-null    object \n",
      " 1   Region                              227 non-null    object \n",
      " 2   Population                          227 non-null    int64  \n",
      " 3   Area (sq. mi.)                      227 non-null    int64  \n",
      " 4   Pop. Density (per sq. mi.)          227 non-null    float64\n",
      " 5   Coastline (coast/area ratio)        227 non-null    float64\n",
      " 6   Net migration                       224 non-null    float64\n",
      " 7   Infant mortality (per 1000 births)  224 non-null    float64\n",
      " 8   GDP ($ per capita)                  226 non-null    float64\n",
      " 9   Literacy (%)                        209 non-null    float64\n",
      " 10  Phones (per 1000)                   223 non-null    float64\n",
      " 11  Arable (%)                          225 non-null    float64\n",
      " 12  Crops (%)                           225 non-null    float64\n",
      " 13  Other (%)                           225 non-null    float64\n",
      " 14  Climate                             205 non-null    float64\n",
      " 15  Birthrate                           224 non-null    float64\n",
      " 16  Deathrate                           223 non-null    float64\n",
      " 17  Agriculture                         212 non-null    float64\n",
      " 18  Industry                            211 non-null    float64\n",
      " 19  Service                             212 non-null    float64\n",
      "dtypes: float64(16), int64(2), object(2)\n",
      "memory usage: 35.6+ KB\n"
     ]
    }
   ],
   "source": [
    "#test \n",
    "df_copy.info()"
   ]
  },
  {
   "cell_type": "markdown",
   "metadata": {},
   "source": [
    "# third issue\n",
    "## fillna"
   ]
  },
  {
   "cell_type": "code",
   "execution_count": 321,
   "metadata": {},
   "outputs": [],
   "source": [
    "#fill null values with median\n",
    "df_copy = df_copy.fillna(df_copy.median()) "
   ]
  },
  {
   "cell_type": "code",
   "execution_count": 322,
   "metadata": {},
   "outputs": [
    {
     "name": "stdout",
     "output_type": "stream",
     "text": [
      "<class 'pandas.core.frame.DataFrame'>\n",
      "RangeIndex: 227 entries, 0 to 226\n",
      "Data columns (total 20 columns):\n",
      " #   Column                              Non-Null Count  Dtype  \n",
      "---  ------                              --------------  -----  \n",
      " 0   Country                             227 non-null    object \n",
      " 1   Region                              227 non-null    object \n",
      " 2   Population                          227 non-null    int64  \n",
      " 3   Area (sq. mi.)                      227 non-null    int64  \n",
      " 4   Pop. Density (per sq. mi.)          227 non-null    float64\n",
      " 5   Coastline (coast/area ratio)        227 non-null    float64\n",
      " 6   Net migration                       227 non-null    float64\n",
      " 7   Infant mortality (per 1000 births)  227 non-null    float64\n",
      " 8   GDP ($ per capita)                  227 non-null    float64\n",
      " 9   Literacy (%)                        227 non-null    float64\n",
      " 10  Phones (per 1000)                   227 non-null    float64\n",
      " 11  Arable (%)                          227 non-null    float64\n",
      " 12  Crops (%)                           227 non-null    float64\n",
      " 13  Other (%)                           227 non-null    float64\n",
      " 14  Climate                             227 non-null    float64\n",
      " 15  Birthrate                           227 non-null    float64\n",
      " 16  Deathrate                           227 non-null    float64\n",
      " 17  Agriculture                         227 non-null    float64\n",
      " 18  Industry                            227 non-null    float64\n",
      " 19  Service                             227 non-null    float64\n",
      "dtypes: float64(16), int64(2), object(2)\n",
      "memory usage: 35.6+ KB\n"
     ]
    }
   ],
   "source": [
    "#test\n",
    "df_copy.info()"
   ]
  },
  {
   "cell_type": "markdown",
   "metadata": {},
   "source": [
    "# check duplicates"
   ]
  },
  {
   "cell_type": "code",
   "execution_count": 323,
   "metadata": {},
   "outputs": [
    {
     "data": {
      "text/plain": [
       "0"
      ]
     },
     "execution_count": 323,
     "metadata": {},
     "output_type": "execute_result"
    }
   ],
   "source": [
    "df_copy.duplicated().sum()"
   ]
  },
  {
   "cell_type": "code",
   "execution_count": 324,
   "metadata": {},
   "outputs": [
    {
     "data": {
      "text/html": [
       "<div>\n",
       "<style scoped>\n",
       "    .dataframe tbody tr th:only-of-type {\n",
       "        vertical-align: middle;\n",
       "    }\n",
       "\n",
       "    .dataframe tbody tr th {\n",
       "        vertical-align: top;\n",
       "    }\n",
       "\n",
       "    .dataframe thead th {\n",
       "        text-align: right;\n",
       "    }\n",
       "</style>\n",
       "<table border=\"1\" class=\"dataframe\">\n",
       "  <thead>\n",
       "    <tr style=\"text-align: right;\">\n",
       "      <th></th>\n",
       "      <th>Population</th>\n",
       "      <th>Area (sq. mi.)</th>\n",
       "      <th>Pop. Density (per sq. mi.)</th>\n",
       "      <th>Coastline (coast/area ratio)</th>\n",
       "      <th>Net migration</th>\n",
       "      <th>Infant mortality (per 1000 births)</th>\n",
       "      <th>GDP ($ per capita)</th>\n",
       "      <th>Literacy (%)</th>\n",
       "      <th>Phones (per 1000)</th>\n",
       "      <th>Arable (%)</th>\n",
       "      <th>Crops (%)</th>\n",
       "      <th>Other (%)</th>\n",
       "      <th>Climate</th>\n",
       "      <th>Birthrate</th>\n",
       "      <th>Deathrate</th>\n",
       "      <th>Agriculture</th>\n",
       "      <th>Industry</th>\n",
       "      <th>Service</th>\n",
       "    </tr>\n",
       "  </thead>\n",
       "  <tbody>\n",
       "    <tr>\n",
       "      <th>count</th>\n",
       "      <td>2.270000e+02</td>\n",
       "      <td>2.270000e+02</td>\n",
       "      <td>227.000000</td>\n",
       "      <td>227.000000</td>\n",
       "      <td>227.000000</td>\n",
       "      <td>227.000000</td>\n",
       "      <td>227.000000</td>\n",
       "      <td>227.000000</td>\n",
       "      <td>227.000000</td>\n",
       "      <td>227.000000</td>\n",
       "      <td>227.000000</td>\n",
       "      <td>227.000000</td>\n",
       "      <td>227.000000</td>\n",
       "      <td>227.000000</td>\n",
       "      <td>227.000000</td>\n",
       "      <td>227.000000</td>\n",
       "      <td>227.000000</td>\n",
       "      <td>227.000000</td>\n",
       "    </tr>\n",
       "    <tr>\n",
       "      <th>mean</th>\n",
       "      <td>2.874028e+07</td>\n",
       "      <td>5.982270e+05</td>\n",
       "      <td>379.047137</td>\n",
       "      <td>21.165330</td>\n",
       "      <td>0.037621</td>\n",
       "      <td>35.315242</td>\n",
       "      <td>9671.585903</td>\n",
       "      <td>83.604405</td>\n",
       "      <td>235.006608</td>\n",
       "      <td>13.767357</td>\n",
       "      <td>4.533084</td>\n",
       "      <td>81.674097</td>\n",
       "      <td>2.125551</td>\n",
       "      <td>22.070793</td>\n",
       "      <td>9.216652</td>\n",
       "      <td>0.147419</td>\n",
       "      <td>0.281956</td>\n",
       "      <td>0.565661</td>\n",
       "    </tr>\n",
       "    <tr>\n",
       "      <th>std</th>\n",
       "      <td>1.178913e+08</td>\n",
       "      <td>1.790282e+06</td>\n",
       "      <td>1660.185825</td>\n",
       "      <td>72.286863</td>\n",
       "      <td>4.856712</td>\n",
       "      <td>35.193412</td>\n",
       "      <td>10030.645350</td>\n",
       "      <td>19.100523</td>\n",
       "      <td>226.103017</td>\n",
       "      <td>12.986425</td>\n",
       "      <td>8.330968</td>\n",
       "      <td>16.073758</td>\n",
       "      <td>0.665761</td>\n",
       "      <td>11.108805</td>\n",
       "      <td>4.949120</td>\n",
       "      <td>0.142429</td>\n",
       "      <td>0.133316</td>\n",
       "      <td>0.160249</td>\n",
       "    </tr>\n",
       "    <tr>\n",
       "      <th>min</th>\n",
       "      <td>7.026000e+03</td>\n",
       "      <td>2.000000e+00</td>\n",
       "      <td>0.000000</td>\n",
       "      <td>0.000000</td>\n",
       "      <td>-20.990000</td>\n",
       "      <td>2.290000</td>\n",
       "      <td>500.000000</td>\n",
       "      <td>17.600000</td>\n",
       "      <td>0.200000</td>\n",
       "      <td>0.000000</td>\n",
       "      <td>0.000000</td>\n",
       "      <td>33.330000</td>\n",
       "      <td>1.000000</td>\n",
       "      <td>7.290000</td>\n",
       "      <td>2.290000</td>\n",
       "      <td>0.000000</td>\n",
       "      <td>0.020000</td>\n",
       "      <td>0.062000</td>\n",
       "    </tr>\n",
       "    <tr>\n",
       "      <th>25%</th>\n",
       "      <td>4.376240e+05</td>\n",
       "      <td>4.647500e+03</td>\n",
       "      <td>29.150000</td>\n",
       "      <td>0.100000</td>\n",
       "      <td>-0.905000</td>\n",
       "      <td>8.215000</td>\n",
       "      <td>1900.000000</td>\n",
       "      <td>76.400000</td>\n",
       "      <td>38.500000</td>\n",
       "      <td>3.380000</td>\n",
       "      <td>0.190000</td>\n",
       "      <td>71.985000</td>\n",
       "      <td>2.000000</td>\n",
       "      <td>12.725000</td>\n",
       "      <td>5.975000</td>\n",
       "      <td>0.040000</td>\n",
       "      <td>0.200000</td>\n",
       "      <td>0.443500</td>\n",
       "    </tr>\n",
       "    <tr>\n",
       "      <th>50%</th>\n",
       "      <td>4.786994e+06</td>\n",
       "      <td>8.660000e+04</td>\n",
       "      <td>78.800000</td>\n",
       "      <td>0.730000</td>\n",
       "      <td>0.000000</td>\n",
       "      <td>21.000000</td>\n",
       "      <td>5550.000000</td>\n",
       "      <td>92.500000</td>\n",
       "      <td>176.200000</td>\n",
       "      <td>10.420000</td>\n",
       "      <td>1.030000</td>\n",
       "      <td>85.700000</td>\n",
       "      <td>2.000000</td>\n",
       "      <td>18.790000</td>\n",
       "      <td>7.840000</td>\n",
       "      <td>0.099000</td>\n",
       "      <td>0.272000</td>\n",
       "      <td>0.571000</td>\n",
       "    </tr>\n",
       "    <tr>\n",
       "      <th>75%</th>\n",
       "      <td>1.749777e+07</td>\n",
       "      <td>4.418110e+05</td>\n",
       "      <td>190.150000</td>\n",
       "      <td>10.345000</td>\n",
       "      <td>0.980000</td>\n",
       "      <td>55.335000</td>\n",
       "      <td>15700.000000</td>\n",
       "      <td>97.800000</td>\n",
       "      <td>382.900000</td>\n",
       "      <td>20.000000</td>\n",
       "      <td>4.435000</td>\n",
       "      <td>95.230000</td>\n",
       "      <td>2.250000</td>\n",
       "      <td>29.770000</td>\n",
       "      <td>10.580000</td>\n",
       "      <td>0.211000</td>\n",
       "      <td>0.335000</td>\n",
       "      <td>0.671500</td>\n",
       "    </tr>\n",
       "    <tr>\n",
       "      <th>max</th>\n",
       "      <td>1.313974e+09</td>\n",
       "      <td>1.707520e+07</td>\n",
       "      <td>16271.500000</td>\n",
       "      <td>870.660000</td>\n",
       "      <td>23.060000</td>\n",
       "      <td>191.190000</td>\n",
       "      <td>55100.000000</td>\n",
       "      <td>100.000000</td>\n",
       "      <td>1035.600000</td>\n",
       "      <td>62.110000</td>\n",
       "      <td>50.680000</td>\n",
       "      <td>100.000000</td>\n",
       "      <td>4.000000</td>\n",
       "      <td>50.730000</td>\n",
       "      <td>29.740000</td>\n",
       "      <td>0.769000</td>\n",
       "      <td>0.906000</td>\n",
       "      <td>0.954000</td>\n",
       "    </tr>\n",
       "  </tbody>\n",
       "</table>\n",
       "</div>"
      ],
      "text/plain": [
       "         Population  Area (sq. mi.)  Pop. Density (per sq. mi.)  \\\n",
       "count  2.270000e+02    2.270000e+02                  227.000000   \n",
       "mean   2.874028e+07    5.982270e+05                  379.047137   \n",
       "std    1.178913e+08    1.790282e+06                 1660.185825   \n",
       "min    7.026000e+03    2.000000e+00                    0.000000   \n",
       "25%    4.376240e+05    4.647500e+03                   29.150000   \n",
       "50%    4.786994e+06    8.660000e+04                   78.800000   \n",
       "75%    1.749777e+07    4.418110e+05                  190.150000   \n",
       "max    1.313974e+09    1.707520e+07                16271.500000   \n",
       "\n",
       "       Coastline (coast/area ratio)  Net migration  \\\n",
       "count                    227.000000     227.000000   \n",
       "mean                      21.165330       0.037621   \n",
       "std                       72.286863       4.856712   \n",
       "min                        0.000000     -20.990000   \n",
       "25%                        0.100000      -0.905000   \n",
       "50%                        0.730000       0.000000   \n",
       "75%                       10.345000       0.980000   \n",
       "max                      870.660000      23.060000   \n",
       "\n",
       "       Infant mortality (per 1000 births)  GDP ($ per capita)  Literacy (%)  \\\n",
       "count                          227.000000          227.000000    227.000000   \n",
       "mean                            35.315242         9671.585903     83.604405   \n",
       "std                             35.193412        10030.645350     19.100523   \n",
       "min                              2.290000          500.000000     17.600000   \n",
       "25%                              8.215000         1900.000000     76.400000   \n",
       "50%                             21.000000         5550.000000     92.500000   \n",
       "75%                             55.335000        15700.000000     97.800000   \n",
       "max                            191.190000        55100.000000    100.000000   \n",
       "\n",
       "       Phones (per 1000)  Arable (%)   Crops (%)   Other (%)     Climate  \\\n",
       "count         227.000000  227.000000  227.000000  227.000000  227.000000   \n",
       "mean          235.006608   13.767357    4.533084   81.674097    2.125551   \n",
       "std           226.103017   12.986425    8.330968   16.073758    0.665761   \n",
       "min             0.200000    0.000000    0.000000   33.330000    1.000000   \n",
       "25%            38.500000    3.380000    0.190000   71.985000    2.000000   \n",
       "50%           176.200000   10.420000    1.030000   85.700000    2.000000   \n",
       "75%           382.900000   20.000000    4.435000   95.230000    2.250000   \n",
       "max          1035.600000   62.110000   50.680000  100.000000    4.000000   \n",
       "\n",
       "        Birthrate   Deathrate  Agriculture    Industry     Service  \n",
       "count  227.000000  227.000000   227.000000  227.000000  227.000000  \n",
       "mean    22.070793    9.216652     0.147419    0.281956    0.565661  \n",
       "std     11.108805    4.949120     0.142429    0.133316    0.160249  \n",
       "min      7.290000    2.290000     0.000000    0.020000    0.062000  \n",
       "25%     12.725000    5.975000     0.040000    0.200000    0.443500  \n",
       "50%     18.790000    7.840000     0.099000    0.272000    0.571000  \n",
       "75%     29.770000   10.580000     0.211000    0.335000    0.671500  \n",
       "max     50.730000   29.740000     0.769000    0.906000    0.954000  "
      ]
     },
     "execution_count": 324,
     "metadata": {},
     "output_type": "execute_result"
    }
   ],
   "source": [
    "#show statistics\n",
    "df_copy.describe()"
   ]
  },
  {
   "cell_type": "markdown",
   "metadata": {},
   "source": [
    "# no duplicates"
   ]
  },
  {
   "cell_type": "markdown",
   "metadata": {},
   "source": [
    "# check Outliers in data"
   ]
  },
  {
   "cell_type": "code",
   "execution_count": 325,
   "metadata": {},
   "outputs": [
    {
     "data": {
      "image/png": "[encoded data removed]",
      "text/plain": [
       "<Figure size 576x396 with 1 Axes>"
      ]
     },
     "metadata": {},
     "output_type": "display_data"
    },
    {
     "data": {
      "image/png": "[encoded data removed]",
      "text/plain": [
       "<Figure size 576x396 with 1 Axes>"
      ]
     },
     "metadata": {},
     "output_type": "display_data"
    },
    {
     "data": {
      "image/png": "[encoded data removed]",
      "text/plain": [
       "<Figure size 576x396 with 1 Axes>"
      ]
     },
     "metadata": {},
     "output_type": "display_data"
    },
    {
     "data": {
      "image/png": "[encoded data removed]",
      "text/plain": [
       "<Figure size 576x396 with 1 Axes>"
      ]
     },
     "metadata": {},
     "output_type": "display_data"
    },
    {
     "data": {
      "image/png": "[encoded data removed]",
      "text/plain": [
       "<Figure size 576x396 with 1 Axes>"
      ]
     },
     "metadata": {},
     "output_type": "display_data"
    },
    {
     "data": {
      "image/png": "[encoded data removed]",
      "text/plain": [
       "<Figure size 576x396 with 1 Axes>"
      ]
     },
     "metadata": {},
     "output_type": "display_data"
    },
    {
     "data": {
      "image/png": "[encoded data removed]",
      "text/plain": [
       "<Figure size 576x396 with 1 Axes>"
      ]
     },
     "metadata": {},
     "output_type": "display_data"
    },
    {
     "data": {
      "image/png": "[encoded data removed]",
      "text/plain": [
       "<Figure size 576x396 with 1 Axes>"
      ]
     },
     "metadata": {},
     "output_type": "display_data"
    },
    {
     "data": {
      "image/png": "[encoded data removed]",
      "text/plain": [
       "<Figure size 576x396 with 1 Axes>"
      ]
     },
     "metadata": {},
     "output_type": "display_data"
    },
    {
     "data": {
      "image/png": "[encoded data removed]",
      "text/plain": [
       "<Figure size 576x396 with 1 Axes>"
      ]
     },
     "metadata": {},
     "output_type": "display_data"
    },
    {
     "data": {
      "image/png": "[encoded data removed]",
      "text/plain": [
       "<Figure size 576x396 with 1 Axes>"
      ]
     },
     "metadata": {},
     "output_type": "display_data"
    },
    {
     "data": {
      "image/png": "[encoded data removed]",
      "text/plain": [
       "<Figure size 576x396 with 1 Axes>"
      ]
     },
     "metadata": {},
     "output_type": "display_data"
    },
    {
     "data": {
      "image/png": "[encoded data removed]",
      "text/plain": [
       "<Figure size 576x396 with 1 Axes>"
      ]
     },
     "metadata": {},
     "output_type": "display_data"
    },
    {
     "data": {
      "image/png": "[encoded data removed]",
      "text/plain": [
       "<Figure size 576x396 with 1 Axes>"
      ]
     },
     "metadata": {},
     "output_type": "display_data"
    },
    {
     "data": {
      "image/png": "[encoded data removed]",
      "text/plain": [
       "<Figure size 576x396 with 1 Axes>"
      ]
     },
     "metadata": {},
     "output_type": "display_data"
    },
    {
     "data": {
      "image/png": "[encoded data removed]",
      "text/plain": [
       "<Figure size 576x396 with 1 Axes>"
      ]
     },
     "metadata": {},
     "output_type": "display_data"
    },
    {
     "data": {
      "image/png": "[encoded data removed]",
      "text/plain": [
       "<Figure size 576x396 with 1 Axes>"
      ]
     },
     "metadata": {},
     "output_type": "display_data"
    },
    {
     "data": {
      "image/png": "[encoded data removed]",
      "text/plain": [
       "<Figure size 576x396 with 1 Axes>"
      ]
     },
     "metadata": {},
     "output_type": "display_data"
    }
   ],
   "source": [
    "for col in df_copy.columns[2:]:\n",
    "    sns.boxplot(df_copy[col])\n",
    "    plt.show()"
   ]
  },
  {
   "cell_type": "code",
   "execution_count": 326,
   "metadata": {},
   "outputs": [
    {
     "name": "stdout",
     "output_type": "stream",
     "text": [
      "<class 'pandas.core.frame.DataFrame'>\n",
      "Int64Index: 214 entries, 1 to 226\n",
      "Data columns (total 20 columns):\n",
      " #   Column                              Non-Null Count  Dtype  \n",
      "---  ------                              --------------  -----  \n",
      " 0   Country                             214 non-null    object \n",
      " 1   Region                              214 non-null    object \n",
      " 2   Population                          214 non-null    int64  \n",
      " 3   Area (sq. mi.)                      214 non-null    int64  \n",
      " 4   Pop. Density (per sq. mi.)          214 non-null    float64\n",
      " 5   Coastline (coast/area ratio)        214 non-null    float64\n",
      " 6   Net migration                       214 non-null    float64\n",
      " 7   Infant mortality (per 1000 births)  214 non-null    float64\n",
      " 8   GDP ($ per capita)                  214 non-null    float64\n",
      " 9   Literacy (%)                        214 non-null    float64\n",
      " 10  Phones (per 1000)                   214 non-null    float64\n",
      " 11  Arable (%)                          214 non-null    float64\n",
      " 12  Crops (%)                           214 non-null    float64\n",
      " 13  Other (%)                           214 non-null    float64\n",
      " 14  Climate                             214 non-null    float64\n",
      " 15  Birthrate                           214 non-null    float64\n",
      " 16  Deathrate                           214 non-null    float64\n",
      " 17  Agriculture                         214 non-null    float64\n",
      " 18  Industry                            214 non-null    float64\n",
      " 19  Service                             214 non-null    float64\n",
      "dtypes: float64(16), int64(2), object(2)\n",
      "memory usage: 35.1+ KB\n"
     ]
    }
   ],
   "source": [
    "df_copy = df_copy[df_copy['Infant mortality (per 1000 births)']<125]\n",
    "df_copy = df_copy[df_copy['Agriculture'] < 0.5]\n",
    "df_copy = df_copy[df_copy['Other (%)'] > 40]\n",
    "df_copy.info()"
   ]
  },
  {
   "cell_type": "markdown",
   "metadata": {},
   "source": [
    "## label encoding for country and region"
   ]
  },
  {
   "cell_type": "code",
   "execution_count": 327,
   "metadata": {},
   "outputs": [
    {
     "data": {
      "text/html": [
       "<div>\n",
       "<style scoped>\n",
       "    .dataframe tbody tr th:only-of-type {\n",
       "        vertical-align: middle;\n",
       "    }\n",
       "\n",
       "    .dataframe tbody tr th {\n",
       "        vertical-align: top;\n",
       "    }\n",
       "\n",
       "    .dataframe thead th {\n",
       "        text-align: right;\n",
       "    }\n",
       "</style>\n",
       "<table border=\"1\" class=\"dataframe\">\n",
       "  <thead>\n",
       "    <tr style=\"text-align: right;\">\n",
       "      <th></th>\n",
       "      <th>Country</th>\n",
       "      <th>Region</th>\n",
       "      <th>Population</th>\n",
       "      <th>Area (sq. mi.)</th>\n",
       "      <th>Pop. Density (per sq. mi.)</th>\n",
       "      <th>Coastline (coast/area ratio)</th>\n",
       "      <th>Net migration</th>\n",
       "      <th>Infant mortality (per 1000 births)</th>\n",
       "      <th>GDP ($ per capita)</th>\n",
       "      <th>Literacy (%)</th>\n",
       "      <th>Phones (per 1000)</th>\n",
       "      <th>Arable (%)</th>\n",
       "      <th>Crops (%)</th>\n",
       "      <th>Other (%)</th>\n",
       "      <th>Climate</th>\n",
       "      <th>Birthrate</th>\n",
       "      <th>Deathrate</th>\n",
       "      <th>Agriculture</th>\n",
       "      <th>Industry</th>\n",
       "      <th>Service</th>\n",
       "    </tr>\n",
       "  </thead>\n",
       "  <tbody>\n",
       "    <tr>\n",
       "      <th>1</th>\n",
       "      <td>0</td>\n",
       "      <td>3</td>\n",
       "      <td>3581655</td>\n",
       "      <td>28748</td>\n",
       "      <td>124.6</td>\n",
       "      <td>1.26</td>\n",
       "      <td>-4.93</td>\n",
       "      <td>21.52</td>\n",
       "      <td>4500.0</td>\n",
       "      <td>86.5</td>\n",
       "      <td>71.2</td>\n",
       "      <td>21.09</td>\n",
       "      <td>4.42</td>\n",
       "      <td>74.49</td>\n",
       "      <td>3.0</td>\n",
       "      <td>15.11</td>\n",
       "      <td>5.22</td>\n",
       "      <td>0.232</td>\n",
       "      <td>0.188</td>\n",
       "      <td>0.579</td>\n",
       "    </tr>\n",
       "    <tr>\n",
       "      <th>2</th>\n",
       "      <td>1</td>\n",
       "      <td>6</td>\n",
       "      <td>32930091</td>\n",
       "      <td>2381740</td>\n",
       "      <td>13.8</td>\n",
       "      <td>0.04</td>\n",
       "      <td>-0.39</td>\n",
       "      <td>31.00</td>\n",
       "      <td>6000.0</td>\n",
       "      <td>70.0</td>\n",
       "      <td>78.1</td>\n",
       "      <td>3.22</td>\n",
       "      <td>0.25</td>\n",
       "      <td>96.53</td>\n",
       "      <td>1.0</td>\n",
       "      <td>17.14</td>\n",
       "      <td>4.61</td>\n",
       "      <td>0.101</td>\n",
       "      <td>0.600</td>\n",
       "      <td>0.298</td>\n",
       "    </tr>\n",
       "    <tr>\n",
       "      <th>3</th>\n",
       "      <td>2</td>\n",
       "      <td>8</td>\n",
       "      <td>57794</td>\n",
       "      <td>199</td>\n",
       "      <td>290.4</td>\n",
       "      <td>58.29</td>\n",
       "      <td>-20.71</td>\n",
       "      <td>9.27</td>\n",
       "      <td>8000.0</td>\n",
       "      <td>97.0</td>\n",
       "      <td>259.5</td>\n",
       "      <td>10.00</td>\n",
       "      <td>15.00</td>\n",
       "      <td>75.00</td>\n",
       "      <td>2.0</td>\n",
       "      <td>22.46</td>\n",
       "      <td>3.27</td>\n",
       "      <td>0.099</td>\n",
       "      <td>0.272</td>\n",
       "      <td>0.571</td>\n",
       "    </tr>\n",
       "    <tr>\n",
       "      <th>4</th>\n",
       "      <td>3</td>\n",
       "      <td>10</td>\n",
       "      <td>71201</td>\n",
       "      <td>468</td>\n",
       "      <td>152.1</td>\n",
       "      <td>0.00</td>\n",
       "      <td>6.60</td>\n",
       "      <td>4.05</td>\n",
       "      <td>19000.0</td>\n",
       "      <td>100.0</td>\n",
       "      <td>497.2</td>\n",
       "      <td>2.22</td>\n",
       "      <td>0.00</td>\n",
       "      <td>97.78</td>\n",
       "      <td>3.0</td>\n",
       "      <td>8.71</td>\n",
       "      <td>6.25</td>\n",
       "      <td>0.099</td>\n",
       "      <td>0.272</td>\n",
       "      <td>0.571</td>\n",
       "    </tr>\n",
       "    <tr>\n",
       "      <th>6</th>\n",
       "      <td>4</td>\n",
       "      <td>4</td>\n",
       "      <td>13477</td>\n",
       "      <td>102</td>\n",
       "      <td>132.1</td>\n",
       "      <td>59.80</td>\n",
       "      <td>10.76</td>\n",
       "      <td>21.03</td>\n",
       "      <td>8600.0</td>\n",
       "      <td>95.0</td>\n",
       "      <td>460.0</td>\n",
       "      <td>0.00</td>\n",
       "      <td>0.00</td>\n",
       "      <td>100.00</td>\n",
       "      <td>2.0</td>\n",
       "      <td>14.17</td>\n",
       "      <td>5.34</td>\n",
       "      <td>0.040</td>\n",
       "      <td>0.180</td>\n",
       "      <td>0.780</td>\n",
       "    </tr>\n",
       "    <tr>\n",
       "      <th>...</th>\n",
       "      <td>...</td>\n",
       "      <td>...</td>\n",
       "      <td>...</td>\n",
       "      <td>...</td>\n",
       "      <td>...</td>\n",
       "      <td>...</td>\n",
       "      <td>...</td>\n",
       "      <td>...</td>\n",
       "      <td>...</td>\n",
       "      <td>...</td>\n",
       "      <td>...</td>\n",
       "      <td>...</td>\n",
       "      <td>...</td>\n",
       "      <td>...</td>\n",
       "      <td>...</td>\n",
       "      <td>...</td>\n",
       "      <td>...</td>\n",
       "      <td>...</td>\n",
       "      <td>...</td>\n",
       "      <td>...</td>\n",
       "    </tr>\n",
       "    <tr>\n",
       "      <th>222</th>\n",
       "      <td>209</td>\n",
       "      <td>5</td>\n",
       "      <td>2460492</td>\n",
       "      <td>5860</td>\n",
       "      <td>419.9</td>\n",
       "      <td>0.00</td>\n",
       "      <td>2.98</td>\n",
       "      <td>19.62</td>\n",
       "      <td>800.0</td>\n",
       "      <td>92.5</td>\n",
       "      <td>145.2</td>\n",
       "      <td>16.90</td>\n",
       "      <td>18.97</td>\n",
       "      <td>64.13</td>\n",
       "      <td>3.0</td>\n",
       "      <td>31.67</td>\n",
       "      <td>3.92</td>\n",
       "      <td>0.090</td>\n",
       "      <td>0.280</td>\n",
       "      <td>0.630</td>\n",
       "    </tr>\n",
       "    <tr>\n",
       "      <th>223</th>\n",
       "      <td>210</td>\n",
       "      <td>6</td>\n",
       "      <td>273008</td>\n",
       "      <td>266000</td>\n",
       "      <td>1.0</td>\n",
       "      <td>0.42</td>\n",
       "      <td>0.00</td>\n",
       "      <td>21.00</td>\n",
       "      <td>5550.0</td>\n",
       "      <td>92.5</td>\n",
       "      <td>176.2</td>\n",
       "      <td>0.02</td>\n",
       "      <td>0.00</td>\n",
       "      <td>99.98</td>\n",
       "      <td>1.0</td>\n",
       "      <td>18.79</td>\n",
       "      <td>7.84</td>\n",
       "      <td>0.099</td>\n",
       "      <td>0.272</td>\n",
       "      <td>0.400</td>\n",
       "    </tr>\n",
       "    <tr>\n",
       "      <th>224</th>\n",
       "      <td>211</td>\n",
       "      <td>5</td>\n",
       "      <td>21456188</td>\n",
       "      <td>527970</td>\n",
       "      <td>40.6</td>\n",
       "      <td>0.36</td>\n",
       "      <td>0.00</td>\n",
       "      <td>61.50</td>\n",
       "      <td>800.0</td>\n",
       "      <td>50.2</td>\n",
       "      <td>37.2</td>\n",
       "      <td>2.78</td>\n",
       "      <td>0.24</td>\n",
       "      <td>96.98</td>\n",
       "      <td>1.0</td>\n",
       "      <td>42.89</td>\n",
       "      <td>8.30</td>\n",
       "      <td>0.135</td>\n",
       "      <td>0.472</td>\n",
       "      <td>0.393</td>\n",
       "    </tr>\n",
       "    <tr>\n",
       "      <th>225</th>\n",
       "      <td>212</td>\n",
       "      <td>9</td>\n",
       "      <td>11502010</td>\n",
       "      <td>752614</td>\n",
       "      <td>15.3</td>\n",
       "      <td>0.00</td>\n",
       "      <td>0.00</td>\n",
       "      <td>88.29</td>\n",
       "      <td>800.0</td>\n",
       "      <td>80.6</td>\n",
       "      <td>8.2</td>\n",
       "      <td>7.08</td>\n",
       "      <td>0.03</td>\n",
       "      <td>92.90</td>\n",
       "      <td>2.0</td>\n",
       "      <td>41.00</td>\n",
       "      <td>19.93</td>\n",
       "      <td>0.220</td>\n",
       "      <td>0.290</td>\n",
       "      <td>0.489</td>\n",
       "    </tr>\n",
       "    <tr>\n",
       "      <th>226</th>\n",
       "      <td>213</td>\n",
       "      <td>9</td>\n",
       "      <td>12236805</td>\n",
       "      <td>390580</td>\n",
       "      <td>31.3</td>\n",
       "      <td>0.00</td>\n",
       "      <td>0.00</td>\n",
       "      <td>67.69</td>\n",
       "      <td>1900.0</td>\n",
       "      <td>90.7</td>\n",
       "      <td>26.8</td>\n",
       "      <td>8.32</td>\n",
       "      <td>0.34</td>\n",
       "      <td>91.34</td>\n",
       "      <td>2.0</td>\n",
       "      <td>28.01</td>\n",
       "      <td>21.84</td>\n",
       "      <td>0.179</td>\n",
       "      <td>0.243</td>\n",
       "      <td>0.579</td>\n",
       "    </tr>\n",
       "  </tbody>\n",
       "</table>\n",
       "<p>214 rows × 20 columns</p>\n",
       "</div>"
      ],
      "text/plain": [
       "     Country  Region  Population  Area (sq. mi.)  Pop. Density (per sq. mi.)  \\\n",
       "1          0       3     3581655           28748                       124.6   \n",
       "2          1       6    32930091         2381740                        13.8   \n",
       "3          2       8       57794             199                       290.4   \n",
       "4          3      10       71201             468                       152.1   \n",
       "6          4       4       13477             102                       132.1   \n",
       "..       ...     ...         ...             ...                         ...   \n",
       "222      209       5     2460492            5860                       419.9   \n",
       "223      210       6      273008          266000                         1.0   \n",
       "224      211       5    21456188          527970                        40.6   \n",
       "225      212       9    11502010          752614                        15.3   \n",
       "226      213       9    12236805          390580                        31.3   \n",
       "\n",
       "     Coastline (coast/area ratio)  Net migration  \\\n",
       "1                            1.26          -4.93   \n",
       "2                            0.04          -0.39   \n",
       "3                           58.29         -20.71   \n",
       "4                            0.00           6.60   \n",
       "6                           59.80          10.76   \n",
       "..                            ...            ...   \n",
       "222                          0.00           2.98   \n",
       "223                          0.42           0.00   \n",
       "224                          0.36           0.00   \n",
       "225                          0.00           0.00   \n",
       "226                          0.00           0.00   \n",
       "\n",
       "     Infant mortality (per 1000 births)  GDP ($ per capita)  Literacy (%)  \\\n",
       "1                                 21.52              4500.0          86.5   \n",
       "2                                 31.00              6000.0          70.0   \n",
       "3                                  9.27              8000.0          97.0   \n",
       "4                                  4.05             19000.0         100.0   \n",
       "6                                 21.03              8600.0          95.0   \n",
       "..                                  ...                 ...           ...   \n",
       "222                               19.62               800.0          92.5   \n",
       "223                               21.00              5550.0          92.5   \n",
       "224                               61.50               800.0          50.2   \n",
       "225                               88.29               800.0          80.6   \n",
       "226                               67.69              1900.0          90.7   \n",
       "\n",
       "     Phones (per 1000)  Arable (%)  Crops (%)  Other (%)  Climate  Birthrate  \\\n",
       "1                 71.2       21.09       4.42      74.49      3.0      15.11   \n",
       "2                 78.1        3.22       0.25      96.53      1.0      17.14   \n",
       "3                259.5       10.00      15.00      75.00      2.0      22.46   \n",
       "4                497.2        2.22       0.00      97.78      3.0       8.71   \n",
       "6                460.0        0.00       0.00     100.00      2.0      14.17   \n",
       "..                 ...         ...        ...        ...      ...        ...   \n",
       "222              145.2       16.90      18.97      64.13      3.0      31.67   \n",
       "223              176.2        0.02       0.00      99.98      1.0      18.79   \n",
       "224               37.2        2.78       0.24      96.98      1.0      42.89   \n",
       "225                8.2        7.08       0.03      92.90      2.0      41.00   \n",
       "226               26.8        8.32       0.34      91.34      2.0      28.01   \n",
       "\n",
       "     Deathrate  Agriculture  Industry  Service  \n",
       "1         5.22        0.232     0.188    0.579  \n",
       "2         4.61        0.101     0.600    0.298  \n",
       "3         3.27        0.099     0.272    0.571  \n",
       "4         6.25        0.099     0.272    0.571  \n",
       "6         5.34        0.040     0.180    0.780  \n",
       "..         ...          ...       ...      ...  \n",
       "222       3.92        0.090     0.280    0.630  \n",
       "223       7.84        0.099     0.272    0.400  \n",
       "224       8.30        0.135     0.472    0.393  \n",
       "225      19.93        0.220     0.290    0.489  \n",
       "226      21.84        0.179     0.243    0.579  \n",
       "\n",
       "[214 rows x 20 columns]"
      ]
     },
     "execution_count": 327,
     "metadata": {},
     "output_type": "execute_result"
    }
   ],
   "source": [
    "from sklearn.preprocessing import LabelEncoder\n",
    "\n",
    "# creating instance of labelencoder\n",
    "labelencoder = LabelEncoder()\n",
    "# Assigning numerical values and storing in another column\n",
    "df_copy['Country'] = labelencoder.fit_transform(df_copy['Country'])\n",
    "df_copy['Region'] = labelencoder.fit_transform(df_copy['Region'])\n",
    "df_copy"
   ]
  },
  {
   "cell_type": "markdown",
   "metadata": {},
   "source": [
    "## 4. <a name=\"4\">Features transformation</a>\n",
    "(<a href=\"#0\">Go to top</a>)"
   ]
  },
  {
   "cell_type": "markdown",
   "metadata": {},
   "source": [
    "*What is the feature scaling technique that would use and why?* <br>\n",
    "*return to this section again and try another technique and see how that will impact your result*<br>\n",
    "for more details on different methods for scaling check these links\n",
    "- https://scikit-learn.org/stable/modules/preprocessing.html#preprocessing\n",
    "- https://scikit-learn.org/stable/modules/classes.html#module-sklearn.preprocessing\n",
    "- https://www.analyticsvidhya.com/blog/2020/07/types-of-feature-transformation-and-scaling/"
   ]
  },
  {
   "cell_type": "code",
   "execution_count": 328,
   "metadata": {},
   "outputs": [
    {
     "data": {
      "text/html": [
       "<div>\n",
       "<style scoped>\n",
       "    .dataframe tbody tr th:only-of-type {\n",
       "        vertical-align: middle;\n",
       "    }\n",
       "\n",
       "    .dataframe tbody tr th {\n",
       "        vertical-align: top;\n",
       "    }\n",
       "\n",
       "    .dataframe thead th {\n",
       "        text-align: right;\n",
       "    }\n",
       "</style>\n",
       "<table border=\"1\" class=\"dataframe\">\n",
       "  <thead>\n",
       "    <tr style=\"text-align: right;\">\n",
       "      <th></th>\n",
       "      <th>Country</th>\n",
       "      <th>Region</th>\n",
       "      <th>Population</th>\n",
       "      <th>Area (sq. mi.)</th>\n",
       "      <th>Pop. Density (per sq. mi.)</th>\n",
       "      <th>Coastline (coast/area ratio)</th>\n",
       "      <th>Net migration</th>\n",
       "      <th>Infant mortality (per 1000 births)</th>\n",
       "      <th>GDP ($ per capita)</th>\n",
       "      <th>Literacy (%)</th>\n",
       "      <th>Phones (per 1000)</th>\n",
       "      <th>Arable (%)</th>\n",
       "      <th>Crops (%)</th>\n",
       "      <th>Other (%)</th>\n",
       "      <th>Climate</th>\n",
       "      <th>Birthrate</th>\n",
       "      <th>Deathrate</th>\n",
       "      <th>Agriculture</th>\n",
       "      <th>Industry</th>\n",
       "      <th>Service</th>\n",
       "    </tr>\n",
       "  </thead>\n",
       "  <tbody>\n",
       "    <tr>\n",
       "      <th>1</th>\n",
       "      <td>0.000000</td>\n",
       "      <td>0.3</td>\n",
       "      <td>0.002720</td>\n",
       "      <td>0.001683</td>\n",
       "      <td>0.007658</td>\n",
       "      <td>0.001447</td>\n",
       "      <td>0.404127</td>\n",
       "      <td>0.161055</td>\n",
       "      <td>0.073260</td>\n",
       "      <td>0.836165</td>\n",
       "      <td>0.067582</td>\n",
       "      <td>0.375200</td>\n",
       "      <td>0.087214</td>\n",
       "      <td>0.569015</td>\n",
       "      <td>0.666667</td>\n",
       "      <td>0.180018</td>\n",
       "      <td>0.106740</td>\n",
       "      <td>0.488421</td>\n",
       "      <td>0.189616</td>\n",
       "      <td>0.579596</td>\n",
       "    </tr>\n",
       "    <tr>\n",
       "      <th>2</th>\n",
       "      <td>0.004695</td>\n",
       "      <td>0.6</td>\n",
       "      <td>0.025056</td>\n",
       "      <td>0.139485</td>\n",
       "      <td>0.000848</td>\n",
       "      <td>0.000046</td>\n",
       "      <td>0.518369</td>\n",
       "      <td>0.240452</td>\n",
       "      <td>0.100733</td>\n",
       "      <td>0.635922</td>\n",
       "      <td>0.074253</td>\n",
       "      <td>0.057285</td>\n",
       "      <td>0.004933</td>\n",
       "      <td>0.941375</td>\n",
       "      <td>0.000000</td>\n",
       "      <td>0.226750</td>\n",
       "      <td>0.084517</td>\n",
       "      <td>0.212632</td>\n",
       "      <td>0.654628</td>\n",
       "      <td>0.264574</td>\n",
       "    </tr>\n",
       "    <tr>\n",
       "      <th>3</th>\n",
       "      <td>0.009390</td>\n",
       "      <td>0.8</td>\n",
       "      <td>0.000039</td>\n",
       "      <td>0.000012</td>\n",
       "      <td>0.017847</td>\n",
       "      <td>0.066949</td>\n",
       "      <td>0.007046</td>\n",
       "      <td>0.058459</td>\n",
       "      <td>0.137363</td>\n",
       "      <td>0.963592</td>\n",
       "      <td>0.249637</td>\n",
       "      <td>0.177904</td>\n",
       "      <td>0.295975</td>\n",
       "      <td>0.577631</td>\n",
       "      <td>0.333333</td>\n",
       "      <td>0.349217</td>\n",
       "      <td>0.035701</td>\n",
       "      <td>0.208421</td>\n",
       "      <td>0.284424</td>\n",
       "      <td>0.570628</td>\n",
       "    </tr>\n",
       "    <tr>\n",
       "      <th>4</th>\n",
       "      <td>0.014085</td>\n",
       "      <td>1.0</td>\n",
       "      <td>0.000049</td>\n",
       "      <td>0.000027</td>\n",
       "      <td>0.009348</td>\n",
       "      <td>0.000000</td>\n",
       "      <td>0.694263</td>\n",
       "      <td>0.014740</td>\n",
       "      <td>0.338828</td>\n",
       "      <td>1.000000</td>\n",
       "      <td>0.479455</td>\n",
       "      <td>0.039495</td>\n",
       "      <td>0.000000</td>\n",
       "      <td>0.962494</td>\n",
       "      <td>0.666667</td>\n",
       "      <td>0.032689</td>\n",
       "      <td>0.144262</td>\n",
       "      <td>0.208421</td>\n",
       "      <td>0.284424</td>\n",
       "      <td>0.570628</td>\n",
       "    </tr>\n",
       "    <tr>\n",
       "      <th>6</th>\n",
       "      <td>0.018779</td>\n",
       "      <td>0.4</td>\n",
       "      <td>0.000005</td>\n",
       "      <td>0.000006</td>\n",
       "      <td>0.008118</td>\n",
       "      <td>0.068684</td>\n",
       "      <td>0.798943</td>\n",
       "      <td>0.156951</td>\n",
       "      <td>0.148352</td>\n",
       "      <td>0.939320</td>\n",
       "      <td>0.443488</td>\n",
       "      <td>0.000000</td>\n",
       "      <td>0.000000</td>\n",
       "      <td>1.000000</td>\n",
       "      <td>0.333333</td>\n",
       "      <td>0.158379</td>\n",
       "      <td>0.111111</td>\n",
       "      <td>0.084211</td>\n",
       "      <td>0.180587</td>\n",
       "      <td>0.804933</td>\n",
       "    </tr>\n",
       "    <tr>\n",
       "      <th>...</th>\n",
       "      <td>...</td>\n",
       "      <td>...</td>\n",
       "      <td>...</td>\n",
       "      <td>...</td>\n",
       "      <td>...</td>\n",
       "      <td>...</td>\n",
       "      <td>...</td>\n",
       "      <td>...</td>\n",
       "      <td>...</td>\n",
       "      <td>...</td>\n",
       "      <td>...</td>\n",
       "      <td>...</td>\n",
       "      <td>...</td>\n",
       "      <td>...</td>\n",
       "      <td>...</td>\n",
       "      <td>...</td>\n",
       "      <td>...</td>\n",
       "      <td>...</td>\n",
       "      <td>...</td>\n",
       "      <td>...</td>\n",
       "    </tr>\n",
       "    <tr>\n",
       "      <th>222</th>\n",
       "      <td>0.981221</td>\n",
       "      <td>0.5</td>\n",
       "      <td>0.001867</td>\n",
       "      <td>0.000343</td>\n",
       "      <td>0.025806</td>\n",
       "      <td>0.000000</td>\n",
       "      <td>0.603171</td>\n",
       "      <td>0.145142</td>\n",
       "      <td>0.005495</td>\n",
       "      <td>0.908981</td>\n",
       "      <td>0.139128</td>\n",
       "      <td>0.300658</td>\n",
       "      <td>0.374309</td>\n",
       "      <td>0.393985</td>\n",
       "      <td>0.666667</td>\n",
       "      <td>0.561234</td>\n",
       "      <td>0.059381</td>\n",
       "      <td>0.189474</td>\n",
       "      <td>0.293454</td>\n",
       "      <td>0.636771</td>\n",
       "    </tr>\n",
       "    <tr>\n",
       "      <th>223</th>\n",
       "      <td>0.985915</td>\n",
       "      <td>0.6</td>\n",
       "      <td>0.000202</td>\n",
       "      <td>0.015578</td>\n",
       "      <td>0.000061</td>\n",
       "      <td>0.000482</td>\n",
       "      <td>0.528183</td>\n",
       "      <td>0.156700</td>\n",
       "      <td>0.092491</td>\n",
       "      <td>0.908981</td>\n",
       "      <td>0.169100</td>\n",
       "      <td>0.000356</td>\n",
       "      <td>0.000000</td>\n",
       "      <td>0.999662</td>\n",
       "      <td>0.000000</td>\n",
       "      <td>0.264733</td>\n",
       "      <td>0.202186</td>\n",
       "      <td>0.208421</td>\n",
       "      <td>0.284424</td>\n",
       "      <td>0.378924</td>\n",
       "    </tr>\n",
       "    <tr>\n",
       "      <th>224</th>\n",
       "      <td>0.990610</td>\n",
       "      <td>0.5</td>\n",
       "      <td>0.016324</td>\n",
       "      <td>0.030920</td>\n",
       "      <td>0.002495</td>\n",
       "      <td>0.000413</td>\n",
       "      <td>0.528183</td>\n",
       "      <td>0.495896</td>\n",
       "      <td>0.005495</td>\n",
       "      <td>0.395631</td>\n",
       "      <td>0.034709</td>\n",
       "      <td>0.049457</td>\n",
       "      <td>0.004736</td>\n",
       "      <td>0.948978</td>\n",
       "      <td>0.000000</td>\n",
       "      <td>0.819521</td>\n",
       "      <td>0.218944</td>\n",
       "      <td>0.284211</td>\n",
       "      <td>0.510158</td>\n",
       "      <td>0.371076</td>\n",
       "    </tr>\n",
       "    <tr>\n",
       "      <th>225</th>\n",
       "      <td>0.995305</td>\n",
       "      <td>0.9</td>\n",
       "      <td>0.008748</td>\n",
       "      <td>0.044076</td>\n",
       "      <td>0.000940</td>\n",
       "      <td>0.000000</td>\n",
       "      <td>0.528183</td>\n",
       "      <td>0.720268</td>\n",
       "      <td>0.005495</td>\n",
       "      <td>0.764563</td>\n",
       "      <td>0.006671</td>\n",
       "      <td>0.125956</td>\n",
       "      <td>0.000592</td>\n",
       "      <td>0.880047</td>\n",
       "      <td>0.333333</td>\n",
       "      <td>0.776013</td>\n",
       "      <td>0.642623</td>\n",
       "      <td>0.463158</td>\n",
       "      <td>0.304740</td>\n",
       "      <td>0.478700</td>\n",
       "    </tr>\n",
       "    <tr>\n",
       "      <th>226</th>\n",
       "      <td>1.000000</td>\n",
       "      <td>0.9</td>\n",
       "      <td>0.009308</td>\n",
       "      <td>0.022874</td>\n",
       "      <td>0.001924</td>\n",
       "      <td>0.000000</td>\n",
       "      <td>0.528183</td>\n",
       "      <td>0.547739</td>\n",
       "      <td>0.025641</td>\n",
       "      <td>0.887136</td>\n",
       "      <td>0.024654</td>\n",
       "      <td>0.148016</td>\n",
       "      <td>0.006709</td>\n",
       "      <td>0.853692</td>\n",
       "      <td>0.333333</td>\n",
       "      <td>0.476980</td>\n",
       "      <td>0.712204</td>\n",
       "      <td>0.376842</td>\n",
       "      <td>0.251693</td>\n",
       "      <td>0.579596</td>\n",
       "    </tr>\n",
       "  </tbody>\n",
       "</table>\n",
       "<p>214 rows × 20 columns</p>\n",
       "</div>"
      ],
      "text/plain": [
       "      Country  Region  Population  Area (sq. mi.)  Pop. Density (per sq. mi.)  \\\n",
       "1    0.000000     0.3    0.002720        0.001683                    0.007658   \n",
       "2    0.004695     0.6    0.025056        0.139485                    0.000848   \n",
       "3    0.009390     0.8    0.000039        0.000012                    0.017847   \n",
       "4    0.014085     1.0    0.000049        0.000027                    0.009348   \n",
       "6    0.018779     0.4    0.000005        0.000006                    0.008118   \n",
       "..        ...     ...         ...             ...                         ...   \n",
       "222  0.981221     0.5    0.001867        0.000343                    0.025806   \n",
       "223  0.985915     0.6    0.000202        0.015578                    0.000061   \n",
       "224  0.990610     0.5    0.016324        0.030920                    0.002495   \n",
       "225  0.995305     0.9    0.008748        0.044076                    0.000940   \n",
       "226  1.000000     0.9    0.009308        0.022874                    0.001924   \n",
       "\n",
       "     Coastline (coast/area ratio)  Net migration  \\\n",
       "1                        0.001447       0.404127   \n",
       "2                        0.000046       0.518369   \n",
       "3                        0.066949       0.007046   \n",
       "4                        0.000000       0.694263   \n",
       "6                        0.068684       0.798943   \n",
       "..                            ...            ...   \n",
       "222                      0.000000       0.603171   \n",
       "223                      0.000482       0.528183   \n",
       "224                      0.000413       0.528183   \n",
       "225                      0.000000       0.528183   \n",
       "226                      0.000000       0.528183   \n",
       "\n",
       "     Infant mortality (per 1000 births)  GDP ($ per capita)  Literacy (%)  \\\n",
       "1                              0.161055            0.073260      0.836165   \n",
       "2                              0.240452            0.100733      0.635922   \n",
       "3                              0.058459            0.137363      0.963592   \n",
       "4                              0.014740            0.338828      1.000000   \n",
       "6                              0.156951            0.148352      0.939320   \n",
       "..                                  ...                 ...           ...   \n",
       "222                            0.145142            0.005495      0.908981   \n",
       "223                            0.156700            0.092491      0.908981   \n",
       "224                            0.495896            0.005495      0.395631   \n",
       "225                            0.720268            0.005495      0.764563   \n",
       "226                            0.547739            0.025641      0.887136   \n",
       "\n",
       "     Phones (per 1000)  Arable (%)  Crops (%)  Other (%)   Climate  Birthrate  \\\n",
       "1             0.067582    0.375200   0.087214   0.569015  0.666667   0.180018   \n",
       "2             0.074253    0.057285   0.004933   0.941375  0.000000   0.226750   \n",
       "3             0.249637    0.177904   0.295975   0.577631  0.333333   0.349217   \n",
       "4             0.479455    0.039495   0.000000   0.962494  0.666667   0.032689   \n",
       "6             0.443488    0.000000   0.000000   1.000000  0.333333   0.158379   \n",
       "..                 ...         ...        ...        ...       ...        ...   \n",
       "222           0.139128    0.300658   0.374309   0.393985  0.666667   0.561234   \n",
       "223           0.169100    0.000356   0.000000   0.999662  0.000000   0.264733   \n",
       "224           0.034709    0.049457   0.004736   0.948978  0.000000   0.819521   \n",
       "225           0.006671    0.125956   0.000592   0.880047  0.333333   0.776013   \n",
       "226           0.024654    0.148016   0.006709   0.853692  0.333333   0.476980   \n",
       "\n",
       "     Deathrate  Agriculture  Industry   Service  \n",
       "1     0.106740     0.488421  0.189616  0.579596  \n",
       "2     0.084517     0.212632  0.654628  0.264574  \n",
       "3     0.035701     0.208421  0.284424  0.570628  \n",
       "4     0.144262     0.208421  0.284424  0.570628  \n",
       "6     0.111111     0.084211  0.180587  0.804933  \n",
       "..         ...          ...       ...       ...  \n",
       "222   0.059381     0.189474  0.293454  0.636771  \n",
       "223   0.202186     0.208421  0.284424  0.378924  \n",
       "224   0.218944     0.284211  0.510158  0.371076  \n",
       "225   0.642623     0.463158  0.304740  0.478700  \n",
       "226   0.712204     0.376842  0.251693  0.579596  \n",
       "\n",
       "[214 rows x 20 columns]"
      ]
     },
     "execution_count": 328,
     "metadata": {},
     "output_type": "execute_result"
    }
   ],
   "source": [
    "from sklearn.preprocessing import MinMaxScaler\n",
    "\n",
    "df_copy_scaled = df_copy.copy() #scaled min max\n",
    "#cols to be scaled\n",
    "cols = df_copy.columns\n",
    "features = df_copy[cols]\n",
    "#MinMax scaling\n",
    "scaler = MinMaxScaler()\n",
    "df_copy_scaled[cols] = scaler.fit_transform(features.values)\n",
    "df_copy_scaled"
   ]
  },
  {
   "cell_type": "markdown",
   "metadata": {},
   "source": [
    "## 5. <a name=\"5\">Training and hyperparamter tuning</a>\n",
    "(<a href=\"#0\">Go to top</a>)\n"
   ]
  },
  {
   "cell_type": "markdown",
   "metadata": {},
   "source": [
    "Before we start the training process we need to specify 3 paramters:<br>\n",
    "1- Linkage criteria : The linkage criterion determines the distance between two clusters\n",
    "    - Complete-Linkage Clustering\n",
    "    - Single-Linkage Clustering\n",
    "    - Average-Linkage Clustering\n",
    "    - Centroid Linkage Clustering\n",
    "2- Distance function:\n",
    "    - Euclidean Distance \n",
    "    - Manhattan Distance \n",
    "    - Mahalanobis distance \n",
    "3- Number of clusters\n"
   ]
  },
  {
   "cell_type": "markdown",
   "metadata": {},
   "source": [
    "### *Number of clusters*\n",
    "Use Dendograms to specify the optimum number of clusters\n",
    "- Compare how changing linkage criteria or distance function would affect the optimum number of clusters\n",
    "- you can use silhouette_score or any other evalution method to help you determine the optimum number of clusters\n",
    "https://scikit-learn.org/stable/modules/generated/sklearn.metrics.silhouette_score.html"
   ]
  },
  {
   "cell_type": "code",
   "execution_count": 329,
   "metadata": {},
   "outputs": [
    {
     "data": {
      "image/png": "[encoded data removed]",
      "text/plain": [
       "<Figure size 720x504 with 1 Axes>"
      ]
     },
     "metadata": {},
     "output_type": "display_data"
    }
   ],
   "source": [
    "import scipy.cluster.hierarchy as shc\n",
    "\n",
    "plt.figure(figsize=(10, 7))\n",
    "plt.title(\"Counters Dendograms\")\n",
    "\n",
    "dend = shc.dendrogram(shc.linkage(y=df_copy_scaled , method='complete',metric='euclidean'),orientation='right') "
   ]
  },
  {
   "cell_type": "code",
   "execution_count": 330,
   "metadata": {},
   "outputs": [
    {
     "data": {
      "image/png": "[encoded data removed]",
      "text/plain": [
       "<Figure size 576x396 with 1 Axes>"
      ]
     },
     "metadata": {},
     "output_type": "display_data"
    }
   ],
   "source": [
    "#try single\n",
    "dend = shc.dendrogram(shc.linkage(y=df_copy_scaled , method='single',metric='euclidean'),orientation='right') "
   ]
  },
  {
   "cell_type": "code",
   "execution_count": 331,
   "metadata": {},
   "outputs": [
    {
     "data": {
      "image/png": "[encoded data removed]",
      "text/plain": [
       "<Figure size 576x396 with 1 Axes>"
      ]
     },
     "metadata": {},
     "output_type": "display_data"
    }
   ],
   "source": [
    "#try average\n",
    "dend = shc.dendrogram(shc.linkage(y=df_copy_scaled , method='average',metric='euclidean'),orientation='right') "
   ]
  },
  {
   "cell_type": "code",
   "execution_count": 332,
   "metadata": {},
   "outputs": [
    {
     "data": {
      "image/png": "[encoded data removed]",
      "text/plain": [
       "<Figure size 576x396 with 1 Axes>"
      ]
     },
     "metadata": {},
     "output_type": "display_data"
    }
   ],
   "source": [
    "#try centroid\n",
    "dend = shc.dendrogram(shc.linkage(y=df_copy_scaled , method='centroid',metric='euclidean'),orientation='right') "
   ]
  },
  {
   "cell_type": "code",
   "execution_count": 333,
   "metadata": {},
   "outputs": [],
   "source": [
    "#training\n",
    "from sklearn.cluster import AgglomerativeClustering\n",
    "clustering = AgglomerativeClustering(n_clusters=6).fit(df_copy_scaled)\n",
    "labels = clustering.labels_"
   ]
  },
  {
   "cell_type": "markdown",
   "metadata": {},
   "source": [
    "# silhouette score"
   ]
  },
  {
   "cell_type": "code",
   "execution_count": 334,
   "metadata": {},
   "outputs": [
    {
     "data": {
      "text/plain": [
       "0.1562852285151141"
      ]
     },
     "execution_count": 334,
     "metadata": {},
     "output_type": "execute_result"
    }
   ],
   "source": [
    "from sklearn import metrics\n",
    "metrics.silhouette_score(df_copy_scaled, labels)"
   ]
  },
  {
   "cell_type": "markdown",
   "metadata": {},
   "source": [
    "# try Kmeans"
   ]
  },
  {
   "cell_type": "code",
   "execution_count": 335,
   "metadata": {},
   "outputs": [],
   "source": [
    "from sklearn.cluster import KMeans\n",
    "kmeans = KMeans(n_clusters=6, random_state=0).fit(df_copy_scaled)\n",
    "labels = kmeans.labels_"
   ]
  },
  {
   "cell_type": "markdown",
   "metadata": {},
   "source": [
    "# silhouette score"
   ]
  },
  {
   "cell_type": "code",
   "execution_count": 336,
   "metadata": {},
   "outputs": [
    {
     "data": {
      "text/plain": [
       "0.1673598515063107"
      ]
     },
     "execution_count": 336,
     "metadata": {},
     "output_type": "execute_result"
    }
   ],
   "source": [
    "from sklearn import metrics\n",
    "metrics.silhouette_score(df_copy_scaled, labels)"
   ]
  },
  {
   "cell_type": "markdown",
   "metadata": {},
   "source": [
    "# Try Elbow method to see difference"
   ]
  },
  {
   "cell_type": "code",
   "execution_count": 337,
   "metadata": {},
   "outputs": [
    {
     "data": {
      "image/png": "[encoded data removed]",
      "text/plain": [
       "<Figure size 576x396 with 2 Axes>"
      ]
     },
     "metadata": {},
     "output_type": "display_data"
    },
    {
     "data": {
      "text/plain": [
       "<AxesSubplot:title={'center':'Distortion Score Elbow for KMeans Clustering'}, xlabel='k', ylabel='distortion score'>"
      ]
     },
     "execution_count": 337,
     "metadata": {},
     "output_type": "execute_result"
    }
   ],
   "source": [
    "from yellowbrick.cluster import KElbowVisualizer\n",
    "\n",
    "visualizer = KElbowVisualizer(kmeans, k=(1,10))\n",
    "\n",
    "visualizer.fit(df_copy_scaled)\n",
    "visualizer.show() "
   ]
  },
  {
   "cell_type": "markdown",
   "metadata": {},
   "source": [
    "## Elbow method show that k=3 clusters so retry kmeans"
   ]
  },
  {
   "cell_type": "code",
   "execution_count": 338,
   "metadata": {},
   "outputs": [],
   "source": [
    "from sklearn.cluster import KMeans\n",
    "kmeans = KMeans(n_clusters=3, random_state=0).fit(df_copy_scaled)\n",
    "labels = kmeans.labels_"
   ]
  },
  {
   "cell_type": "markdown",
   "metadata": {},
   "source": [
    "## silhouette score"
   ]
  },
  {
   "cell_type": "code",
   "execution_count": 339,
   "metadata": {},
   "outputs": [
    {
     "data": {
      "text/plain": [
       "0.18137908516613926"
      ]
     },
     "execution_count": 339,
     "metadata": {},
     "output_type": "execute_result"
    }
   ],
   "source": [
    "from sklearn import metrics\n",
    "metrics.silhouette_score(df_copy_scaled, labels)"
   ]
  },
  {
   "cell_type": "markdown",
   "metadata": {},
   "source": [
    "### score improved"
   ]
  },
  {
   "cell_type": "markdown",
   "metadata": {},
   "source": [
    "## 6. <a name=\"6\">improvement ideas</a>\n",
    "(<a href=\"#0\">Go to top</a>)"
   ]
  },
  {
   "cell_type": "markdown",
   "metadata": {},
   "source": [
    "- Try to use PCA to reduce the number of features and compare how this will affect the clustring process\n",
    "- Try to run your code again but with different tranformation technique\n",
    "- Implement gap statistics method and use it as evaluation metric and compare the result with what you did before https://www.datanovia.com/en/lessons/determining-the-optimal-number-of-clusters-3-must-know-methods/#gap-statistic-method "
   ]
  },
  {
   "cell_type": "markdown",
   "metadata": {},
   "source": [
    "## try standard scalar"
   ]
  },
  {
   "cell_type": "code",
   "execution_count": 340,
   "metadata": {},
   "outputs": [
    {
     "data": {
      "text/html": [
       "<div>\n",
       "<style scoped>\n",
       "    .dataframe tbody tr th:only-of-type {\n",
       "        vertical-align: middle;\n",
       "    }\n",
       "\n",
       "    .dataframe tbody tr th {\n",
       "        vertical-align: top;\n",
       "    }\n",
       "\n",
       "    .dataframe thead th {\n",
       "        text-align: right;\n",
       "    }\n",
       "</style>\n",
       "<table border=\"1\" class=\"dataframe\">\n",
       "  <thead>\n",
       "    <tr style=\"text-align: right;\">\n",
       "      <th></th>\n",
       "      <th>Country</th>\n",
       "      <th>Region</th>\n",
       "      <th>Population</th>\n",
       "      <th>Area (sq. mi.)</th>\n",
       "      <th>Pop. Density (per sq. mi.)</th>\n",
       "      <th>Coastline (coast/area ratio)</th>\n",
       "      <th>Net migration</th>\n",
       "      <th>Infant mortality (per 1000 births)</th>\n",
       "      <th>GDP ($ per capita)</th>\n",
       "      <th>Literacy (%)</th>\n",
       "      <th>Phones (per 1000)</th>\n",
       "      <th>Arable (%)</th>\n",
       "      <th>Crops (%)</th>\n",
       "      <th>Other (%)</th>\n",
       "      <th>Climate</th>\n",
       "      <th>Birthrate</th>\n",
       "      <th>Deathrate</th>\n",
       "      <th>Agriculture</th>\n",
       "      <th>Industry</th>\n",
       "      <th>Service</th>\n",
       "    </tr>\n",
       "  </thead>\n",
       "  <tbody>\n",
       "    <tr>\n",
       "      <th>1</th>\n",
       "      <td>-1.723976</td>\n",
       "      <td>-0.812737</td>\n",
       "      <td>-0.209307</td>\n",
       "      <td>-0.311676</td>\n",
       "      <td>-0.158316</td>\n",
       "      <td>-0.282307</td>\n",
       "      <td>-1.029578</td>\n",
       "      <td>-0.327360</td>\n",
       "      <td>-0.563749</td>\n",
       "      <td>0.071949</td>\n",
       "      <td>-0.780782</td>\n",
       "      <td>0.597604</td>\n",
       "      <td>-0.006812</td>\n",
       "      <td>-0.481047</td>\n",
       "      <td>1.270992</td>\n",
       "      <td>-0.579885</td>\n",
       "      <td>-0.787624</td>\n",
       "      <td>0.864292</td>\n",
       "      <td>-0.744086</td>\n",
       "      <td>0.000462</td>\n",
       "    </tr>\n",
       "    <tr>\n",
       "      <th>2</th>\n",
       "      <td>-1.707788</td>\n",
       "      <td>0.091556</td>\n",
       "      <td>0.033724</td>\n",
       "      <td>0.971918</td>\n",
       "      <td>-0.223352</td>\n",
       "      <td>-0.298777</td>\n",
       "      <td>-0.067264</td>\n",
       "      <td>-0.005171</td>\n",
       "      <td>-0.414973</td>\n",
       "      <td>-0.868290</td>\n",
       "      <td>-0.750237</td>\n",
       "      <td>-0.836789</td>\n",
       "      <td>-0.522385</td>\n",
       "      <td>0.958895</td>\n",
       "      <td>-1.693502</td>\n",
       "      <td>-0.387640</td>\n",
       "      <td>-0.922557</td>\n",
       "      <td>-0.249352</td>\n",
       "      <td>2.402566</td>\n",
       "      <td>-1.851603</td>\n",
       "    </tr>\n",
       "    <tr>\n",
       "      <th>3</th>\n",
       "      <td>-1.691601</td>\n",
       "      <td>0.694418</td>\n",
       "      <td>-0.238488</td>\n",
       "      <td>-0.327250</td>\n",
       "      <td>-0.060998</td>\n",
       "      <td>0.487574</td>\n",
       "      <td>-4.374361</td>\n",
       "      <td>-0.743691</td>\n",
       "      <td>-0.216605</td>\n",
       "      <td>0.670283</td>\n",
       "      <td>0.052784</td>\n",
       "      <td>-0.292570</td>\n",
       "      <td>1.301287</td>\n",
       "      <td>-0.447727</td>\n",
       "      <td>-0.211255</td>\n",
       "      <td>0.116173</td>\n",
       "      <td>-1.218968</td>\n",
       "      <td>-0.266355</td>\n",
       "      <td>-0.102535</td>\n",
       "      <td>-0.052266</td>\n",
       "    </tr>\n",
       "    <tr>\n",
       "      <th>4</th>\n",
       "      <td>-1.675413</td>\n",
       "      <td>1.297280</td>\n",
       "      <td>-0.238376</td>\n",
       "      <td>-0.327103</td>\n",
       "      <td>-0.142175</td>\n",
       "      <td>-0.299317</td>\n",
       "      <td>1.414361</td>\n",
       "      <td>-0.921099</td>\n",
       "      <td>0.874416</td>\n",
       "      <td>0.841236</td>\n",
       "      <td>1.105035</td>\n",
       "      <td>-0.917057</td>\n",
       "      <td>-0.553295</td>\n",
       "      <td>1.040562</td>\n",
       "      <td>1.270992</td>\n",
       "      <td>-1.185977</td>\n",
       "      <td>-0.559786</td>\n",
       "      <td>-0.266355</td>\n",
       "      <td>-0.102535</td>\n",
       "      <td>-0.052266</td>\n",
       "    </tr>\n",
       "    <tr>\n",
       "      <th>6</th>\n",
       "      <td>-1.659226</td>\n",
       "      <td>-0.511306</td>\n",
       "      <td>-0.238854</td>\n",
       "      <td>-0.327303</td>\n",
       "      <td>-0.153914</td>\n",
       "      <td>0.507959</td>\n",
       "      <td>2.296129</td>\n",
       "      <td>-0.344013</td>\n",
       "      <td>-0.157095</td>\n",
       "      <td>0.556315</td>\n",
       "      <td>0.940358</td>\n",
       "      <td>-1.095252</td>\n",
       "      <td>-0.553295</td>\n",
       "      <td>1.185601</td>\n",
       "      <td>-0.211255</td>\n",
       "      <td>-0.668905</td>\n",
       "      <td>-0.761080</td>\n",
       "      <td>-0.767920</td>\n",
       "      <td>-0.805186</td>\n",
       "      <td>1.325249</td>\n",
       "    </tr>\n",
       "  </tbody>\n",
       "</table>\n",
       "</div>"
      ],
      "text/plain": [
       "    Country    Region  Population  Area (sq. mi.)  Pop. Density (per sq. mi.)  \\\n",
       "1 -1.723976 -0.812737   -0.209307       -0.311676                   -0.158316   \n",
       "2 -1.707788  0.091556    0.033724        0.971918                   -0.223352   \n",
       "3 -1.691601  0.694418   -0.238488       -0.327250                   -0.060998   \n",
       "4 -1.675413  1.297280   -0.238376       -0.327103                   -0.142175   \n",
       "6 -1.659226 -0.511306   -0.238854       -0.327303                   -0.153914   \n",
       "\n",
       "   Coastline (coast/area ratio)  Net migration  \\\n",
       "1                     -0.282307      -1.029578   \n",
       "2                     -0.298777      -0.067264   \n",
       "3                      0.487574      -4.374361   \n",
       "4                     -0.299317       1.414361   \n",
       "6                      0.507959       2.296129   \n",
       "\n",
       "   Infant mortality (per 1000 births)  GDP ($ per capita)  Literacy (%)  \\\n",
       "1                           -0.327360           -0.563749      0.071949   \n",
       "2                           -0.005171           -0.414973     -0.868290   \n",
       "3                           -0.743691           -0.216605      0.670283   \n",
       "4                           -0.921099            0.874416      0.841236   \n",
       "6                           -0.344013           -0.157095      0.556315   \n",
       "\n",
       "   Phones (per 1000)  Arable (%)  Crops (%)  Other (%)   Climate  Birthrate  \\\n",
       "1          -0.780782    0.597604  -0.006812  -0.481047  1.270992  -0.579885   \n",
       "2          -0.750237   -0.836789  -0.522385   0.958895 -1.693502  -0.387640   \n",
       "3           0.052784   -0.292570   1.301287  -0.447727 -0.211255   0.116173   \n",
       "4           1.105035   -0.917057  -0.553295   1.040562  1.270992  -1.185977   \n",
       "6           0.940358   -1.095252  -0.553295   1.185601 -0.211255  -0.668905   \n",
       "\n",
       "   Deathrate  Agriculture  Industry   Service  \n",
       "1  -0.787624     0.864292 -0.744086  0.000462  \n",
       "2  -0.922557    -0.249352  2.402566 -1.851603  \n",
       "3  -1.218968    -0.266355 -0.102535 -0.052266  \n",
       "4  -0.559786    -0.266355 -0.102535 -0.052266  \n",
       "6  -0.761080    -0.767920 -0.805186  1.325249  "
      ]
     },
     "execution_count": 340,
     "metadata": {},
     "output_type": "execute_result"
    }
   ],
   "source": [
    "from sklearn.preprocessing import StandardScaler\n",
    "scaler = StandardScaler()\n",
    "\n",
    "df_copy_scaled[cols] = scaler.fit_transform(features.values)\n",
    "df_copy_scaled.head()"
   ]
  },
  {
   "cell_type": "code",
   "execution_count": 341,
   "metadata": {},
   "outputs": [
    {
     "data": {
      "text/plain": [
       "0.14800017290159426"
      ]
     },
     "execution_count": 341,
     "metadata": {},
     "output_type": "execute_result"
    }
   ],
   "source": [
    "from sklearn.cluster import KMeans\n",
    "kmeans = KMeans(n_clusters=4, random_state=0).fit(df_copy_scaled)\n",
    "labels = kmeans.labels_\n",
    "\n",
    "from sklearn import metrics\n",
    "metrics.silhouette_score(df_copy_scaled, labels)"
   ]
  },
  {
   "cell_type": "markdown",
   "metadata": {},
   "source": [
    "## standard scalar decreased the score"
   ]
  },
  {
   "cell_type": "markdown",
   "metadata": {},
   "source": [
    "# try MaxAbsScaler"
   ]
  },
  {
   "cell_type": "code",
   "execution_count": 342,
   "metadata": {},
   "outputs": [
    {
     "data": {
      "text/plain": [
       "0.16685080662141571"
      ]
     },
     "execution_count": 342,
     "metadata": {},
     "output_type": "execute_result"
    }
   ],
   "source": [
    "from sklearn.preprocessing import MaxAbsScaler\n",
    "scaler = MaxAbsScaler()\n",
    "\n",
    "df_copy_scaled[cols] = scaler.fit_transform(features.values)\n",
    "\n",
    "from sklearn.cluster import KMeans\n",
    "kmeans = KMeans(n_clusters=4, random_state=0).fit(df_copy_scaled)\n",
    "labels = kmeans.labels_\n",
    "\n",
    "from sklearn import metrics\n",
    "metrics.silhouette_score(df_copy_scaled, labels)"
   ]
  },
  {
   "cell_type": "markdown",
   "metadata": {},
   "source": [
    "### MaxAbsScaler decreased the score so use MinMax"
   ]
  },
  {
   "cell_type": "markdown",
   "metadata": {},
   "source": [
    "# Try PCA"
   ]
  },
  {
   "cell_type": "code",
   "execution_count": 343,
   "metadata": {},
   "outputs": [
    {
     "data": {
      "text/html": [
       "<div>\n",
       "<style scoped>\n",
       "    .dataframe tbody tr th:only-of-type {\n",
       "        vertical-align: middle;\n",
       "    }\n",
       "\n",
       "    .dataframe tbody tr th {\n",
       "        vertical-align: top;\n",
       "    }\n",
       "\n",
       "    .dataframe thead th {\n",
       "        text-align: right;\n",
       "    }\n",
       "</style>\n",
       "<table border=\"1\" class=\"dataframe\">\n",
       "  <thead>\n",
       "    <tr style=\"text-align: right;\">\n",
       "      <th></th>\n",
       "      <th>principal component 1</th>\n",
       "      <th>principal component 2</th>\n",
       "    </tr>\n",
       "  </thead>\n",
       "  <tbody>\n",
       "    <tr>\n",
       "      <th>0</th>\n",
       "      <td>0.034252</td>\n",
       "      <td>0.366455</td>\n",
       "    </tr>\n",
       "    <tr>\n",
       "      <th>1</th>\n",
       "      <td>0.142512</td>\n",
       "      <td>0.064415</td>\n",
       "    </tr>\n",
       "    <tr>\n",
       "      <th>2</th>\n",
       "      <td>-0.007758</td>\n",
       "      <td>0.020533</td>\n",
       "    </tr>\n",
       "    <tr>\n",
       "      <th>3</th>\n",
       "      <td>-0.487021</td>\n",
       "      <td>-0.510944</td>\n",
       "    </tr>\n",
       "    <tr>\n",
       "      <th>4</th>\n",
       "      <td>-0.435060</td>\n",
       "      <td>-0.004094</td>\n",
       "    </tr>\n",
       "  </tbody>\n",
       "</table>\n",
       "</div>"
      ],
      "text/plain": [
       "   principal component 1  principal component 2\n",
       "0               0.034252               0.366455\n",
       "1               0.142512               0.064415\n",
       "2              -0.007758               0.020533\n",
       "3              -0.487021              -0.510944\n",
       "4              -0.435060              -0.004094"
      ]
     },
     "execution_count": 343,
     "metadata": {},
     "output_type": "execute_result"
    }
   ],
   "source": [
    "from sklearn.decomposition import PCA\n",
    "pca = PCA(n_components=2)\n",
    "principalComponents = pca.fit_transform(df_copy_scaled)\n",
    "principalDf = pd.DataFrame(data = principalComponents , columns = ['principal component 1', 'principal component 2'])\n",
    "\n",
    "principalDf.head()"
   ]
  },
  {
   "cell_type": "code",
   "execution_count": 344,
   "metadata": {},
   "outputs": [
    {
     "data": {
      "text/plain": [
       "0.4344346878197352"
      ]
     },
     "execution_count": 344,
     "metadata": {},
     "output_type": "execute_result"
    }
   ],
   "source": [
    "from sklearn.cluster import KMeans\n",
    "kmeans = KMeans(n_clusters=4, random_state=0).fit(principalDf)\n",
    "labels = kmeans.labels_\n",
    "\n",
    "from sklearn import metrics\n",
    "metrics.silhouette_score(principalDf, labels)"
   ]
  },
  {
   "cell_type": "markdown",
   "metadata": {},
   "source": [
    "# PCA highly increased score "
   ]
  }
 ],
 "metadata": {
  "kernelspec": {
   "display_name": "Python 3",
   "language": "python",
   "name": "python3"
  },
  "language_info": {
   "codemirror_mode": {
    "name": "ipython",
    "version": 3
   },
   "file_extension": ".py",
   "mimetype": "text/x-python",
   "name": "python",
   "nbconvert_exporter": "python",
   "pygments_lexer": "ipython3",
   "version": "3.8.5"
  }
 },
 "nbformat": 4,
 "nbformat_minor": 4
}
